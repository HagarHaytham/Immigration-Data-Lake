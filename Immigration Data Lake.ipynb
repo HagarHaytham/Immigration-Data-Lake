{
 "cells": [
  {
   "cell_type": "markdown",
   "metadata": {
    "editable": true
   },
   "source": [
    "# Immigration Data Lake\n",
    "### Data Engineering Capstone Project\n",
    "\n",
    "#### Project Summary\n",
    "This project aims to gather data of immigrants to the US and analyze it through many aspects, It aims to answer questions like:\n",
    "- What is the most popular state for the student immigrants ? \n",
    "- Does the temperature of a state in a certain month affect the number of immigrants?\n",
    "- How much does the number of immigrants to a state affect the foreigners born in that state ?\n",
    "And many more analytical questions.\n",
    "\n",
    "The project follows the follow steps:\n",
    "* Step 1: Scope the Project and Gather Data\n",
    "* Step 2: Explore and Assess the Data\n",
    "* Step 3: Define the Data Model\n",
    "* Step 4: Run ETL to Model the Data\n",
    "* Step 5: Complete Project Write Up"
   ]
  },
  {
   "cell_type": "code",
   "execution_count": 1,
   "metadata": {
    "editable": true,
    "execution": {
     "iopub.execute_input": "2022-11-21T02:28:00.685055Z",
     "iopub.status.busy": "2022-11-21T02:28:00.684721Z",
     "iopub.status.idle": "2022-11-21T02:28:23.619319Z",
     "shell.execute_reply": "2022-11-21T02:28:23.618409Z",
     "shell.execute_reply.started": "2022-11-21T02:28:00.685018Z"
    },
    "tags": []
   },
   "outputs": [
    {
     "data": {
      "application/vnd.jupyter.widget-view+json": {
       "model_id": "8a7c7b0cd6f84870af0a501f6b64a03e",
       "version_major": 2,
       "version_minor": 0
      },
      "text/plain": [
       "VBox()"
      ]
     },
     "metadata": {},
     "output_type": "display_data"
    },
    {
     "name": "stdout",
     "output_type": "stream",
     "text": [
      "Starting Spark application\n"
     ]
    },
    {
     "data": {
      "text/html": [
       "<table>\n",
       "<tr><th>ID</th><th>YARN Application ID</th><th>Kind</th><th>State</th><th>Spark UI</th><th>Driver log</th><th>Current session?</th></tr><tr><td>1</td><td>application_1668996888511_0002</td><td>pyspark</td><td>idle</td><td><a target=\"_blank\" href=\"http://ip-172-31-48-227.us-west-2.compute.internal:20888/proxy/application_1668996888511_0002/\">Link</a></td><td><a target=\"_blank\" href=\"http://ip-172-31-49-181.us-west-2.compute.internal:8042/node/containerlogs/container_1668996888511_0002_01_000001/livy\">Link</a></td><td>✔</td></tr></table>"
      ],
      "text/plain": [
       "<IPython.core.display.HTML object>"
      ]
     },
     "metadata": {},
     "output_type": "display_data"
    },
    {
     "data": {
      "application/vnd.jupyter.widget-view+json": {
       "model_id": "",
       "version_major": 2,
       "version_minor": 0
      },
      "text/plain": [
       "FloatProgress(value=0.0, bar_style='info', description='Progress:', layout=Layout(height='25px', width='50%'),…"
      ]
     },
     "metadata": {},
     "output_type": "display_data"
    },
    {
     "name": "stdout",
     "output_type": "stream",
     "text": [
      "SparkSession available as 'spark'.\n"
     ]
    },
    {
     "data": {
      "application/vnd.jupyter.widget-view+json": {
       "model_id": "",
       "version_major": 2,
       "version_minor": 0
      },
      "text/plain": [
       "FloatProgress(value=0.0, bar_style='info', description='Progress:', layout=Layout(height='25px', width='50%'),…"
      ]
     },
     "metadata": {},
     "output_type": "display_data"
    }
   ],
   "source": [
    "# Do all imports and installs here\n",
    "# import pandas as pd\n",
    "from pyspark.sql import SparkSession\n",
    "from pyspark.sql.functions import count,when,col\n",
    "from pyspark.sql.functions import to_date\n",
    "from pyspark.sql.functions import udf\n",
    "from pyspark.sql.types import StringType\n",
    "from pyspark.sql.types import IntegerType\n",
    "from pyspark.sql.types import TimestampType\n",
    "from pyspark.sql.functions import countDistinct\n",
    "from pyspark.sql.functions import monotonically_increasing_id"
   ]
  },
  {
   "cell_type": "markdown",
   "metadata": {
    "editable": true
   },
   "source": [
    "### Step 1: Scope the Project and Gather Data\n",
    "\n",
    "#### Scope \n",
    "Explain what you plan to do in the project in more detail. What data do you use? What is your end solution look like? What tools did you use? etc>\n",
    "\n",
    "#### Describe and Gather Data \n",
    "Describe the data sets you're using. Where did it come from? What type of information is included? "
   ]
  },
  {
   "cell_type": "code",
   "execution_count": 2,
   "metadata": {
    "editable": true,
    "execution": {
     "iopub.execute_input": "2022-11-21T02:28:23.621822Z",
     "iopub.status.busy": "2022-11-21T02:28:23.621155Z",
     "iopub.status.idle": "2022-11-21T02:28:37.432192Z",
     "shell.execute_reply": "2022-11-21T02:28:37.431517Z",
     "shell.execute_reply.started": "2022-11-21T02:28:23.621780Z"
    },
    "tags": []
   },
   "outputs": [
    {
     "data": {
      "application/vnd.jupyter.widget-view+json": {
       "model_id": "23cb8e393de2481f859fa6fd8a6017d8",
       "version_major": 2,
       "version_minor": 0
      },
      "text/plain": [
       "VBox()"
      ]
     },
     "metadata": {},
     "output_type": "display_data"
    },
    {
     "data": {
      "application/vnd.jupyter.widget-view+json": {
       "model_id": "",
       "version_major": 2,
       "version_minor": 0
      },
      "text/plain": [
       "FloatProgress(value=0.0, bar_style='info', description='Progress:', layout=Layout(height='25px', width='50%'),…"
      ]
     },
     "metadata": {},
     "output_type": "display_data"
    }
   ],
   "source": [
    "# Read in the data here\n",
    "input_data = \"s3a://immigration-raw-data/\"\n",
    "immigration_df = spark.read.parquet(input_data + 'immigration/')"
   ]
  },
  {
   "cell_type": "code",
   "execution_count": 3,
   "metadata": {
    "execution": {
     "iopub.execute_input": "2022-11-21T02:28:37.434923Z",
     "iopub.status.busy": "2022-11-21T02:28:37.434339Z",
     "iopub.status.idle": "2022-11-21T02:28:37.941430Z",
     "shell.execute_reply": "2022-11-21T02:28:37.940682Z",
     "shell.execute_reply.started": "2022-11-21T02:28:37.434863Z"
    },
    "tags": []
   },
   "outputs": [
    {
     "data": {
      "application/vnd.jupyter.widget-view+json": {
       "model_id": "6b2e906e409d4ffcbaded4388dfc86f8",
       "version_major": 2,
       "version_minor": 0
      },
      "text/plain": [
       "VBox()"
      ]
     },
     "metadata": {},
     "output_type": "display_data"
    },
    {
     "data": {
      "application/vnd.jupyter.widget-view+json": {
       "model_id": "",
       "version_major": 2,
       "version_minor": 0
      },
      "text/plain": [
       "FloatProgress(value=0.0, bar_style='info', description='Progress:', layout=Layout(height='25px', width='50%'),…"
      ]
     },
     "metadata": {},
     "output_type": "display_data"
    }
   ],
   "source": [
    "labels_data = spark.read.text(input_data + 'I94_SAS_Labels_Descriptions.SAS')"
   ]
  },
  {
   "cell_type": "code",
   "execution_count": 4,
   "metadata": {
    "execution": {
     "iopub.execute_input": "2022-11-21T02:28:37.944783Z",
     "iopub.status.busy": "2022-11-21T02:28:37.943172Z",
     "iopub.status.idle": "2022-11-21T02:28:43.797498Z",
     "shell.execute_reply": "2022-11-21T02:28:43.795957Z",
     "shell.execute_reply.started": "2022-11-21T02:28:37.944737Z"
    },
    "tags": []
   },
   "outputs": [
    {
     "data": {
      "application/vnd.jupyter.widget-view+json": {
       "model_id": "0bc9246a0fa84df39e2acc87fe34f0e0",
       "version_major": 2,
       "version_minor": 0
      },
      "text/plain": [
       "VBox()"
      ]
     },
     "metadata": {},
     "output_type": "display_data"
    },
    {
     "data": {
      "application/vnd.jupyter.widget-view+json": {
       "model_id": "",
       "version_major": 2,
       "version_minor": 0
      },
      "text/plain": [
       "FloatProgress(value=0.0, bar_style='info', description='Progress:', layout=Layout(height='25px', width='50%'),…"
      ]
     },
     "metadata": {},
     "output_type": "display_data"
    }
   ],
   "source": [
    "demograhics_df = spark.read.option(\"header\",True).option(\"delimiter\",\";\").option(\"inferSchema\" , \"true\").csv(input_data +\"us-cities-demographics.csv\")"
   ]
  },
  {
   "cell_type": "code",
   "execution_count": 5,
   "metadata": {
    "execution": {
     "iopub.execute_input": "2022-11-21T02:28:43.798906Z",
     "iopub.status.busy": "2022-11-21T02:28:43.798571Z",
     "iopub.status.idle": "2022-11-21T02:29:10.345717Z",
     "shell.execute_reply": "2022-11-21T02:29:10.344747Z",
     "shell.execute_reply.started": "2022-11-21T02:28:43.798865Z"
    },
    "tags": []
   },
   "outputs": [
    {
     "data": {
      "application/vnd.jupyter.widget-view+json": {
       "model_id": "cbb8be33e9e643e69ed8cbb22d6661ef",
       "version_major": 2,
       "version_minor": 0
      },
      "text/plain": [
       "VBox()"
      ]
     },
     "metadata": {},
     "output_type": "display_data"
    },
    {
     "data": {
      "application/vnd.jupyter.widget-view+json": {
       "model_id": "",
       "version_major": 2,
       "version_minor": 0
      },
      "text/plain": [
       "FloatProgress(value=0.0, bar_style='info', description='Progress:', layout=Layout(height='25px', width='50%'),…"
      ]
     },
     "metadata": {},
     "output_type": "display_data"
    }
   ],
   "source": [
    "temperature_df =  spark.read.option(\"header\",True).option(\"inferSchema\" , \"true\").csv(input_data + 'GlobalLandTemperaturesByCity.csv')"
   ]
  },
  {
   "cell_type": "code",
   "execution_count": 6,
   "metadata": {
    "execution": {
     "iopub.execute_input": "2022-11-21T02:29:10.350131Z",
     "iopub.status.busy": "2022-11-21T02:29:10.348195Z",
     "iopub.status.idle": "2022-11-21T02:29:11.875153Z",
     "shell.execute_reply": "2022-11-21T02:29:11.874185Z",
     "shell.execute_reply.started": "2022-11-21T02:29:10.350084Z"
    },
    "tags": []
   },
   "outputs": [
    {
     "data": {
      "application/vnd.jupyter.widget-view+json": {
       "model_id": "2d5d12df823041e0aded9cbde551ae1d",
       "version_major": 2,
       "version_minor": 0
      },
      "text/plain": [
       "VBox()"
      ]
     },
     "metadata": {},
     "output_type": "display_data"
    },
    {
     "data": {
      "application/vnd.jupyter.widget-view+json": {
       "model_id": "",
       "version_major": 2,
       "version_minor": 0
      },
      "text/plain": [
       "FloatProgress(value=0.0, bar_style='info', description='Progress:', layout=Layout(height='25px', width='50%'),…"
      ]
     },
     "metadata": {},
     "output_type": "display_data"
    }
   ],
   "source": [
    "airport_df = spark.read.option(\"header\",True).csv(input_data + \"airport-codes_csv.csv\")"
   ]
  },
  {
   "cell_type": "markdown",
   "metadata": {
    "editable": true
   },
   "source": [
    "### Step 2: Explore and Assess the Data\n",
    "#### Explore the Data \n",
    "Identify data quality issues, like missing values, duplicate data, etc.\n",
    "\n",
    "#### Cleaning Steps\n",
    "Document steps necessary to clean the data"
   ]
  },
  {
   "cell_type": "markdown",
   "metadata": {
    "tags": []
   },
   "source": [
    "##### Immigration data cleaning"
   ]
  },
  {
   "cell_type": "code",
   "execution_count": 7,
   "metadata": {
    "editable": true,
    "execution": {
     "iopub.execute_input": "2022-11-21T02:29:11.877312Z",
     "iopub.status.busy": "2022-11-21T02:29:11.876917Z",
     "iopub.status.idle": "2022-11-21T02:29:13.498700Z",
     "shell.execute_reply": "2022-11-21T02:29:13.497479Z",
     "shell.execute_reply.started": "2022-11-21T02:29:11.877270Z"
    },
    "tags": []
   },
   "outputs": [
    {
     "data": {
      "application/vnd.jupyter.widget-view+json": {
       "model_id": "dc266bf7892c480384ee474fcad35742",
       "version_major": 2,
       "version_minor": 0
      },
      "text/plain": [
       "VBox()"
      ]
     },
     "metadata": {},
     "output_type": "display_data"
    },
    {
     "data": {
      "application/vnd.jupyter.widget-view+json": {
       "model_id": "",
       "version_major": 2,
       "version_minor": 0
      },
      "text/plain": [
       "FloatProgress(value=0.0, bar_style='info', description='Progress:', layout=Layout(height='25px', width='50%'),…"
      ]
     },
     "metadata": {},
     "output_type": "display_data"
    },
    {
     "name": "stdout",
     "output_type": "stream",
     "text": [
      "[Row(cicid=5680949.0, i94yr=2016.0, i94cit=117.0, i94res=117.0, i94port='NYC', arrdate=20659.0, i94mode=1.0, i94addr='NY', depdate=None, i94bir=30.0, i94visa=3.0, count=1.0, dtadfile='20160724', visapost='NPL', occup=None, entdepa='G', entdepd=None, entdepu=None, matflag=None, biryear=1986.0, dtaddto='D/S', gender='F', insnum=None, airline='IG', admnum=2947450085.0, fltno='3940', visatype='F1', i94mon=7.0)]"
     ]
    }
   ],
   "source": [
    "# Performing cleaning tasks here\n",
    "immigration_df.take(1)"
   ]
  },
  {
   "cell_type": "code",
   "execution_count": 8,
   "metadata": {
    "editable": true,
    "execution": {
     "iopub.execute_input": "2022-11-21T02:29:13.503558Z",
     "iopub.status.busy": "2022-11-21T02:29:13.502916Z",
     "iopub.status.idle": "2022-11-21T02:29:14.004919Z",
     "shell.execute_reply": "2022-11-21T02:29:14.003688Z",
     "shell.execute_reply.started": "2022-11-21T02:29:13.503514Z"
    },
    "tags": []
   },
   "outputs": [
    {
     "data": {
      "application/vnd.jupyter.widget-view+json": {
       "model_id": "6301be8ab2974b29a5c340e8f1e31f7a",
       "version_major": 2,
       "version_minor": 0
      },
      "text/plain": [
       "VBox()"
      ]
     },
     "metadata": {},
     "output_type": "display_data"
    },
    {
     "data": {
      "application/vnd.jupyter.widget-view+json": {
       "model_id": "",
       "version_major": 2,
       "version_minor": 0
      },
      "text/plain": [
       "FloatProgress(value=0.0, bar_style='info', description='Progress:', layout=Layout(height='25px', width='50%'),…"
      ]
     },
     "metadata": {},
     "output_type": "display_data"
    },
    {
     "name": "stdout",
     "output_type": "stream",
     "text": [
      "root\n",
      " |-- cicid: double (nullable = true)\n",
      " |-- i94yr: double (nullable = true)\n",
      " |-- i94cit: double (nullable = true)\n",
      " |-- i94res: double (nullable = true)\n",
      " |-- i94port: string (nullable = true)\n",
      " |-- arrdate: double (nullable = true)\n",
      " |-- i94mode: double (nullable = true)\n",
      " |-- i94addr: string (nullable = true)\n",
      " |-- depdate: double (nullable = true)\n",
      " |-- i94bir: double (nullable = true)\n",
      " |-- i94visa: double (nullable = true)\n",
      " |-- count: double (nullable = true)\n",
      " |-- dtadfile: string (nullable = true)\n",
      " |-- visapost: string (nullable = true)\n",
      " |-- occup: string (nullable = true)\n",
      " |-- entdepa: string (nullable = true)\n",
      " |-- entdepd: string (nullable = true)\n",
      " |-- entdepu: string (nullable = true)\n",
      " |-- matflag: string (nullable = true)\n",
      " |-- biryear: double (nullable = true)\n",
      " |-- dtaddto: string (nullable = true)\n",
      " |-- gender: string (nullable = true)\n",
      " |-- insnum: string (nullable = true)\n",
      " |-- airline: string (nullable = true)\n",
      " |-- admnum: double (nullable = true)\n",
      " |-- fltno: string (nullable = true)\n",
      " |-- visatype: string (nullable = true)\n",
      " |-- i94mon: double (nullable = true)"
     ]
    }
   ],
   "source": [
    "immigration_df.printSchema()"
   ]
  },
  {
   "cell_type": "code",
   "execution_count": 9,
   "metadata": {
    "editable": true,
    "execution": {
     "iopub.execute_input": "2022-11-21T02:29:14.007902Z",
     "iopub.status.busy": "2022-11-21T02:29:14.007288Z",
     "iopub.status.idle": "2022-11-21T02:29:32.109302Z",
     "shell.execute_reply": "2022-11-21T02:29:32.107004Z",
     "shell.execute_reply.started": "2022-11-21T02:29:14.007857Z"
    },
    "tags": []
   },
   "outputs": [
    {
     "data": {
      "application/vnd.jupyter.widget-view+json": {
       "model_id": "a6505763a8864ecab65e6e6c6df25ab4",
       "version_major": 2,
       "version_minor": 0
      },
      "text/plain": [
       "VBox()"
      ]
     },
     "metadata": {},
     "output_type": "display_data"
    },
    {
     "data": {
      "application/vnd.jupyter.widget-view+json": {
       "model_id": "",
       "version_major": 2,
       "version_minor": 0
      },
      "text/plain": [
       "FloatProgress(value=0.0, bar_style='info', description='Progress:', layout=Layout(height='25px', width='50%'),…"
      ]
     },
     "metadata": {},
     "output_type": "display_data"
    },
    {
     "name": "stdout",
     "output_type": "stream",
     "text": [
      "+---------+------+------+------+-------+-------+-------+-------+-------+------+-------+-----+--------+--------+-----+-------+-------+-------+-------+-------+--------+------+------+-------+---------------+-----+--------+------+\n",
      "|    cicid| i94yr|i94cit|i94res|i94port|arrdate|i94mode|i94addr|depdate|i94bir|i94visa|count|dtadfile|visapost|occup|entdepa|entdepd|entdepu|matflag|biryear| dtaddto|gender|insnum|airline|         admnum|fltno|visatype|i94mon|\n",
      "+---------+------+------+------+-------+-------+-------+-------+-------+------+-------+-----+--------+--------+-----+-------+-------+-------+-------+-------+--------+------+------+-------+---------------+-----+--------+------+\n",
      "|2358368.0|2016.0| 135.0| 135.0|    NEW|20739.0|    1.0|     FL|20761.0|  17.0|    2.0|  1.0|20161012|    null| null|      G|      O|   null|      M| 1999.0|01092017|     F|  null|     UA|6.6156102033E10|00922|      WT|  10.0|\n",
      "|2358369.0|2016.0| 254.0| 276.0|    SAI|20739.0|    1.0|     MP|20743.0|   5.0|    2.0|  1.0|20161012|    null| null|      G|      O|   null|      M| 2011.0|01102017|     F|  null|     OZ|6.6156103933E10|00625|      WT|  10.0|\n",
      "|2358370.0|2016.0| 135.0| 135.0|    NEW|20739.0|    1.0|     NY|20753.0|  17.0|    2.0|  1.0|20161012|    null| null|      G|      O|   null|      M| 1999.0|01092017|     M|  null|     UA|6.6156104833E10|00162|      WT|  10.0|\n",
      "|2358371.0|2016.0| 123.0| 123.0|    NYC|20739.0|    1.0|     NY|20742.0|  44.0|    2.0|  1.0|20161012|    null| null|      O|      O|   null|      M| 1972.0|01092017|  null|  null|     DL|6.6156105733E10|00047|      WT|  10.0|\n",
      "|2358372.0|2016.0| 123.0| 123.0|    NEW|20739.0|    1.0|     NY|20753.0|  60.0|    2.0|  1.0|20161012|    null| null|      G|      O|   null|      M| 1956.0|01092017|     F|  null|     UA|6.6156106633E10|00071|      WT|  10.0|\n",
      "+---------+------+------+------+-------+-------+-------+-------+-------+------+-------+-----+--------+--------+-----+-------+-------+-------+-------+-------+--------+------+------+-------+---------------+-----+--------+------+"
     ]
    }
   ],
   "source": [
    "immigration_df.limit(5).show()"
   ]
  },
  {
   "cell_type": "code",
   "execution_count": 10,
   "metadata": {
    "editable": true,
    "execution": {
     "iopub.execute_input": "2022-11-21T02:29:32.111173Z",
     "iopub.status.busy": "2022-11-21T02:29:32.110779Z",
     "iopub.status.idle": "2022-11-21T02:29:39.958918Z",
     "shell.execute_reply": "2022-11-21T02:29:39.956796Z",
     "shell.execute_reply.started": "2022-11-21T02:29:32.111131Z"
    },
    "tags": []
   },
   "outputs": [
    {
     "data": {
      "application/vnd.jupyter.widget-view+json": {
       "model_id": "a3e44c81b75d435d8cedde942b71ee02",
       "version_major": 2,
       "version_minor": 0
      },
      "text/plain": [
       "VBox()"
      ]
     },
     "metadata": {},
     "output_type": "display_data"
    },
    {
     "data": {
      "application/vnd.jupyter.widget-view+json": {
       "model_id": "",
       "version_major": 2,
       "version_minor": 0
      },
      "text/plain": [
       "FloatProgress(value=0.0, bar_style='info', description='Progress:', layout=Layout(height='25px', width='50%'),…"
      ]
     },
     "metadata": {},
     "output_type": "display_data"
    },
    {
     "name": "stdout",
     "output_type": "stream",
     "text": [
      "+-------+--------------------+\n",
      "|summary|               i94yr|\n",
      "+-------+--------------------+\n",
      "|  count|            40790529|\n",
      "|   mean|              2016.0|\n",
      "| stddev|4.57374931523714E-14|\n",
      "|    min|              2016.0|\n",
      "|    max|              2016.0|\n",
      "+-------+--------------------+"
     ]
    }
   ],
   "source": [
    "immigration_df.describe(\"i94yr\").show()"
   ]
  },
  {
   "cell_type": "code",
   "execution_count": 11,
   "metadata": {
    "editable": true,
    "execution": {
     "iopub.execute_input": "2022-11-21T02:29:39.963030Z",
     "iopub.status.busy": "2022-11-21T02:29:39.962022Z",
     "iopub.status.idle": "2022-11-21T02:29:40.434109Z",
     "shell.execute_reply": "2022-11-21T02:29:40.432738Z",
     "shell.execute_reply.started": "2022-11-21T02:29:39.962982Z"
    },
    "tags": []
   },
   "outputs": [
    {
     "data": {
      "application/vnd.jupyter.widget-view+json": {
       "model_id": "1b463eeeab694b52bf2192a3984fad3c",
       "version_major": 2,
       "version_minor": 0
      },
      "text/plain": [
       "VBox()"
      ]
     },
     "metadata": {},
     "output_type": "display_data"
    },
    {
     "data": {
      "application/vnd.jupyter.widget-view+json": {
       "model_id": "",
       "version_major": 2,
       "version_minor": 0
      },
      "text/plain": [
       "FloatProgress(value=0.0, bar_style='info', description='Progress:', layout=Layout(height='25px', width='50%'),…"
      ]
     },
     "metadata": {},
     "output_type": "display_data"
    }
   ],
   "source": [
    "@udf(IntegerType())\n",
    "def convertToInteger(x):\n",
    "    if x!=None:\n",
    "        return int(x)    \n",
    "    else:\n",
    "        return x\n",
    "    \n",
    "for col_name, col_type in immigration_df.dtypes:\n",
    "    if col_type == 'double':\n",
    "        immigration_df = immigration_df.withColumn(col_name, convertToInteger(col_name))"
   ]
  },
  {
   "cell_type": "code",
   "execution_count": 12,
   "metadata": {
    "editable": true,
    "execution": {
     "iopub.execute_input": "2022-11-21T02:29:40.437022Z",
     "iopub.status.busy": "2022-11-21T02:29:40.436304Z",
     "iopub.status.idle": "2022-11-21T02:29:44.101062Z",
     "shell.execute_reply": "2022-11-21T02:29:44.100176Z",
     "shell.execute_reply.started": "2022-11-21T02:29:40.436977Z"
    },
    "tags": []
   },
   "outputs": [
    {
     "data": {
      "application/vnd.jupyter.widget-view+json": {
       "model_id": "c4ea4d6eb77044268fed3639a44e37c0",
       "version_major": 2,
       "version_minor": 0
      },
      "text/plain": [
       "VBox()"
      ]
     },
     "metadata": {},
     "output_type": "display_data"
    },
    {
     "data": {
      "application/vnd.jupyter.widget-view+json": {
       "model_id": "",
       "version_major": 2,
       "version_minor": 0
      },
      "text/plain": [
       "FloatProgress(value=0.0, bar_style='info', description='Progress:', layout=Layout(height='25px', width='50%'),…"
      ]
     },
     "metadata": {},
     "output_type": "display_data"
    },
    {
     "name": "stdout",
     "output_type": "stream",
     "text": [
      "+-------+-----+------+------+-------+-------+-------+-------+-------+------+-------+-----+--------+--------+-----+-------+-------+-------+-------+-------+--------+------+------+-------+----------+-----+--------+------+\n",
      "|  cicid|i94yr|i94cit|i94res|i94port|arrdate|i94mode|i94addr|depdate|i94bir|i94visa|count|dtadfile|visapost|occup|entdepa|entdepd|entdepu|matflag|biryear| dtaddto|gender|insnum|airline|    admnum|fltno|visatype|i94mon|\n",
      "+-------+-----+------+------+-------+-------+-------+-------+-------+------+-------+-----+--------+--------+-----+-------+-------+-------+-------+-------+--------+------+------+-------+----------+-----+--------+------+\n",
      "|2452107| 2016|   135|   135|    NYC|  20708|      1|     NY|  20713|    57|      1|    1|20160911|    null| null|      G|      O|   null|      M|   1959|12092016|     M|  null|     VS|1474026993|   45|      WB|     9|\n",
      "|2452108| 2016|   135|   135|    ATL|  20708|      1|     GA|  20784|    42|      2|    1|20160911|    null| null|      O|      O|   null|      M|   1974|12092016|     F|  null|     EV|1474027893| 5522|      WT|     9|\n",
      "|2452110| 2016|   209|   209|    LOS|  20708|      1|     CA|  20713|    44|      1|    1|20160911|    null| null|      O|      O|   null|      M|   1972|12092016|     M|  null|     SQ|1474029693|   12|      WB|     9|\n",
      "|2452111| 2016|   263|   263|    SEA|  20708|      1|     WA|   null|    18|      3|    1|20160911|     BNK| null|      G|   null|   null|   null|   1998|     D/S|     M|  null|     KE|1474030593|   19|      F1|     9|\n",
      "|2452112| 2016|   209|   209|    HHW|  20708|      1|     HI|  20714|    34|      2|    1|20160911|    null| null|      G|      O|   null|      M|   1982|12092016|     F|  null|     NQ|1474031493|  182|      WT|     9|\n",
      "+-------+-----+------+------+-------+-------+-------+-------+-------+------+-------+-----+--------+--------+-----+-------+-------+-------+-------+-------+--------+------+------+-------+----------+-----+--------+------+\n",
      "\n",
      "----------------------------------------\n",
      "Exception happened during processing of request from ('127.0.0.1', 54624)\n",
      "Traceback (most recent call last):\n",
      "  File \"/usr/lib64/python3.6/socketserver.py\", line 320, in _handle_request_noblock\n",
      "    self.process_request(request, client_address)\n",
      "  File \"/usr/lib64/python3.6/socketserver.py\", line 351, in process_request\n",
      "    self.finish_request(request, client_address)\n",
      "  File \"/usr/lib64/python3.6/socketserver.py\", line 364, in finish_request\n",
      "    self.RequestHandlerClass(request, client_address, self)\n",
      "  File \"/usr/lib64/python3.6/socketserver.py\", line 724, in __init__\n",
      "    self.handle()\n",
      "  File \"/usr/lib/spark/python/lib/pyspark.zip/pyspark/accumulators.py\", line 266, in handle\n",
      "    poll(authenticate_and_accum_updates)\n",
      "  File \"/usr/lib/spark/python/lib/pyspark.zip/pyspark/accumulators.py\", line 241, in poll\n",
      "    if func():\n",
      "  File \"/usr/lib/spark/python/lib/pyspark.zip/pyspark/accumulators.py\", line 254, in authenticate_and_accum_updates\n",
      "    received_token = self.rfile.read(len(auth_token))\n",
      "TypeError: object of type 'NoneType' has no len()\n",
      "----------------------------------------"
     ]
    }
   ],
   "source": [
    "immigration_df.limit(5).show()"
   ]
  },
  {
   "cell_type": "code",
   "execution_count": 13,
   "metadata": {
    "editable": true,
    "execution": {
     "iopub.execute_input": "2022-11-21T02:29:44.102831Z",
     "iopub.status.busy": "2022-11-21T02:29:44.102251Z",
     "iopub.status.idle": "2022-11-21T02:29:44.389830Z",
     "shell.execute_reply": "2022-11-21T02:29:44.388776Z",
     "shell.execute_reply.started": "2022-11-21T02:29:44.102788Z"
    },
    "tags": []
   },
   "outputs": [
    {
     "data": {
      "application/vnd.jupyter.widget-view+json": {
       "model_id": "80ad61af8ead44869bfbbee54d681cec",
       "version_major": 2,
       "version_minor": 0
      },
      "text/plain": [
       "VBox()"
      ]
     },
     "metadata": {},
     "output_type": "display_data"
    },
    {
     "data": {
      "application/vnd.jupyter.widget-view+json": {
       "model_id": "",
       "version_major": 2,
       "version_minor": 0
      },
      "text/plain": [
       "FloatProgress(value=0.0, bar_style='info', description='Progress:', layout=Layout(height='25px', width='50%'),…"
      ]
     },
     "metadata": {},
     "output_type": "display_data"
    },
    {
     "name": "stdout",
     "output_type": "stream",
     "text": [
      "root\n",
      " |-- cicid: integer (nullable = true)\n",
      " |-- i94yr: integer (nullable = true)\n",
      " |-- i94cit: integer (nullable = true)\n",
      " |-- i94res: integer (nullable = true)\n",
      " |-- i94port: string (nullable = true)\n",
      " |-- arrdate: integer (nullable = true)\n",
      " |-- i94mode: integer (nullable = true)\n",
      " |-- i94addr: string (nullable = true)\n",
      " |-- depdate: integer (nullable = true)\n",
      " |-- i94bir: integer (nullable = true)\n",
      " |-- i94visa: integer (nullable = true)\n",
      " |-- count: integer (nullable = true)\n",
      " |-- dtadfile: string (nullable = true)\n",
      " |-- visapost: string (nullable = true)\n",
      " |-- occup: string (nullable = true)\n",
      " |-- entdepa: string (nullable = true)\n",
      " |-- entdepd: string (nullable = true)\n",
      " |-- entdepu: string (nullable = true)\n",
      " |-- matflag: string (nullable = true)\n",
      " |-- biryear: integer (nullable = true)\n",
      " |-- dtaddto: string (nullable = true)\n",
      " |-- gender: string (nullable = true)\n",
      " |-- insnum: string (nullable = true)\n",
      " |-- airline: string (nullable = true)\n",
      " |-- admnum: integer (nullable = true)\n",
      " |-- fltno: string (nullable = true)\n",
      " |-- visatype: string (nullable = true)\n",
      " |-- i94mon: integer (nullable = true)"
     ]
    }
   ],
   "source": [
    "immigration_df.printSchema()"
   ]
  },
  {
   "cell_type": "code",
   "execution_count": 14,
   "metadata": {
    "execution": {
     "iopub.execute_input": "2022-11-21T02:29:44.392119Z",
     "iopub.status.busy": "2022-11-21T02:29:44.391317Z",
     "iopub.status.idle": "2022-11-21T02:29:44.856098Z",
     "shell.execute_reply": "2022-11-21T02:29:44.854983Z",
     "shell.execute_reply.started": "2022-11-21T02:29:44.392067Z"
    },
    "tags": []
   },
   "outputs": [
    {
     "data": {
      "application/vnd.jupyter.widget-view+json": {
       "model_id": "7d6c88c03526458fa8266f6c41201fab",
       "version_major": 2,
       "version_minor": 0
      },
      "text/plain": [
       "VBox()"
      ]
     },
     "metadata": {},
     "output_type": "display_data"
    },
    {
     "data": {
      "application/vnd.jupyter.widget-view+json": {
       "model_id": "",
       "version_major": 2,
       "version_minor": 0
      },
      "text/plain": [
       "FloatProgress(value=0.0, bar_style='info', description='Progress:', layout=Layout(height='25px', width='50%'),…"
      ]
     },
     "metadata": {},
     "output_type": "display_data"
    }
   ],
   "source": [
    "s = '\\n'.join(d['value'] for d in labels_data.collect())\n",
    "lines = s.splitlines()"
   ]
  },
  {
   "cell_type": "code",
   "execution_count": 15,
   "metadata": {
    "editable": true,
    "execution": {
     "iopub.execute_input": "2022-11-21T02:29:44.858329Z",
     "iopub.status.busy": "2022-11-21T02:29:44.857649Z",
     "iopub.status.idle": "2022-11-21T02:29:45.109800Z",
     "shell.execute_reply": "2022-11-21T02:29:45.109075Z",
     "shell.execute_reply.started": "2022-11-21T02:29:44.858286Z"
    },
    "tags": []
   },
   "outputs": [
    {
     "data": {
      "application/vnd.jupyter.widget-view+json": {
       "model_id": "501619510c9c4fde94aa1f1af9a3ba4a",
       "version_major": 2,
       "version_minor": 0
      },
      "text/plain": [
       "VBox()"
      ]
     },
     "metadata": {},
     "output_type": "display_data"
    },
    {
     "data": {
      "application/vnd.jupyter.widget-view+json": {
       "model_id": "",
       "version_major": 2,
       "version_minor": 0
      },
      "text/plain": [
       "FloatProgress(value=0.0, bar_style='info', description='Progress:', layout=Layout(height='25px', width='50%'),…"
      ]
     },
     "metadata": {},
     "output_type": "display_data"
    }
   ],
   "source": [
    "import itertools\n",
    "\n",
    "def decodingImmegrationData():\n",
    "    # file_name = \"I94_SAS_Labels_Descriptions.SAS\"\n",
    "    country_codes = {}\n",
    "    port_codes ={}\n",
    "    mode_codes ={}\n",
    "    address_codes ={}\n",
    "    visa_codes = {}\n",
    "    # with open(file_name) as f:\n",
    "    for line in lines[9:298]:#s, 9, 298):  # start=9, stop=298\n",
    "        code, country = line.partition(\"=\")[::2]\n",
    "        country = country.replace(';','')\n",
    "        country = country.replace('\\'','')\n",
    "        country = country.strip()\n",
    "        country_codes[int(code)] = country\n",
    "\n",
    "    for line in lines[ 302:962]:\n",
    "        code, portcountry = line.partition(\"=\")[::2]\n",
    "        code = code.replace('\\'','')\n",
    "        code = code.strip()\n",
    "        portcountry = portcountry.replace('\\'','')\n",
    "        portcountry = portcountry.strip()\n",
    "        if ',' in portcountry:\n",
    "            port,country = portcountry.rsplit(',', 1)\n",
    "            port_codes[code] = [port.strip(),country.strip()]\n",
    "        else:\n",
    "            port_codes[code] = [None,None]\n",
    "\n",
    "    for line in lines[972:976]:\n",
    "        code, mode = line.partition(\"=\")[::2]\n",
    "        mode = mode.replace(';','')\n",
    "        mode = mode.replace('\\'','')\n",
    "        mode = mode.strip()\n",
    "        code = int(code)\n",
    "        mode_codes[code] = mode\n",
    "\n",
    "    for line in lines[ 981:1036 ]:\n",
    "        code, address = line.partition(\"=\")[::2]\n",
    "        code = code.replace('\\'','')\n",
    "        code = code.strip()\n",
    "        address = address.replace(';','')\n",
    "        address = address.replace('\\'','')\n",
    "        address = address.strip()\n",
    "        address_codes [code] = address\n",
    "\n",
    "\n",
    "    for line in lines[1046:1049]:\n",
    "        code , visa_type = line.partition(\"=\")[::2]\n",
    "        visa_type = visa_type.strip()\n",
    "        code = int(code)\n",
    "        visa_codes[code] = visa_type\n",
    "            \n",
    "    return country_codes,port_codes,mode_codes,address_codes,visa_codes\n",
    "country_codes,port_codes,mode_codes,address_codes,visa_codes = decodingImmegrationData()\n"
   ]
  },
  {
   "cell_type": "code",
   "execution_count": 16,
   "metadata": {
    "editable": true,
    "execution": {
     "iopub.execute_input": "2022-11-21T02:29:45.111690Z",
     "iopub.status.busy": "2022-11-21T02:29:45.111087Z",
     "iopub.status.idle": "2022-11-21T02:29:45.397771Z",
     "shell.execute_reply": "2022-11-21T02:29:45.396796Z",
     "shell.execute_reply.started": "2022-11-21T02:29:45.111648Z"
    },
    "tags": []
   },
   "outputs": [
    {
     "data": {
      "application/vnd.jupyter.widget-view+json": {
       "model_id": "04c09bf7730d49f4a8bc022444049525",
       "version_major": 2,
       "version_minor": 0
      },
      "text/plain": [
       "VBox()"
      ]
     },
     "metadata": {},
     "output_type": "display_data"
    },
    {
     "data": {
      "application/vnd.jupyter.widget-view+json": {
       "model_id": "",
       "version_major": 2,
       "version_minor": 0
      },
      "text/plain": [
       "FloatProgress(value=0.0, bar_style='info', description='Progress:', layout=Layout(height='25px', width='50%'),…"
      ]
     },
     "metadata": {},
     "output_type": "display_data"
    }
   ],
   "source": [
    "@udf(StringType())\n",
    "def extractCountry(x):\n",
    "    if x != None and x in country_codes.keys():\n",
    "        return country_codes[x]\n",
    "    else:\n",
    "        return None\n",
    "\n",
    "@udf(StringType())\n",
    "def extractCountryPort(x):\n",
    "    if x != None and x in port_codes.keys():\n",
    "        return port_codes[x][0]\n",
    "    else:\n",
    "        return None\n",
    "    \n",
    "@udf(StringType())\n",
    "def extractStatePort(x):\n",
    "    if x != None and x in port_codes.keys():\n",
    "        return port_codes[x][1]\n",
    "    else:\n",
    "        return None\n",
    "\n",
    "@udf(StringType())\n",
    "def extractTravelMode(x):\n",
    "    if x != None and x in mode_codes.keys():\n",
    "        return mode_codes[x]\n",
    "    else:\n",
    "        return x\n",
    "\n",
    "@udf(StringType())\n",
    "def extractAddress(x):\n",
    "    if x != None  and x in address_codes.keys():\n",
    "        return address_codes[x]\n",
    "    else:\n",
    "        return x\n",
    "\n",
    "@udf(StringType())\n",
    "def extractVisa(x):\n",
    "    if x != None and x in visa_codes.keys():\n",
    "        return visa_codes[x]\n",
    "    else:\n",
    "        return x\n",
    "\n"
   ]
  },
  {
   "cell_type": "code",
   "execution_count": 17,
   "metadata": {
    "editable": true,
    "execution": {
     "iopub.execute_input": "2022-11-21T02:29:45.400318Z",
     "iopub.status.busy": "2022-11-21T02:29:45.399562Z",
     "iopub.status.idle": "2022-11-21T02:29:45.913262Z",
     "shell.execute_reply": "2022-11-21T02:29:45.912451Z",
     "shell.execute_reply.started": "2022-11-21T02:29:45.400274Z"
    },
    "tags": []
   },
   "outputs": [
    {
     "data": {
      "application/vnd.jupyter.widget-view+json": {
       "model_id": "fa428f60a22b4f8da67bd98e696840e3",
       "version_major": 2,
       "version_minor": 0
      },
      "text/plain": [
       "VBox()"
      ]
     },
     "metadata": {},
     "output_type": "display_data"
    },
    {
     "data": {
      "application/vnd.jupyter.widget-view+json": {
       "model_id": "",
       "version_major": 2,
       "version_minor": 0
      },
      "text/plain": [
       "FloatProgress(value=0.0, bar_style='info', description='Progress:', layout=Layout(height='25px', width='50%'),…"
      ]
     },
     "metadata": {},
     "output_type": "display_data"
    }
   ],
   "source": [
    "immigration_df = immigration_df.withColumn(\"i94cit\", extractCountry(\"i94cit\"))\n",
    "immigration_df = immigration_df.withColumn(\"i94res\", extractCountry(\"i94res\"))\n",
    "immigration_df = immigration_df.withColumn(\"airportcountry\", extractCountryPort(\"i94port\"))\n",
    "immigration_df = immigration_df.withColumn(\"airportstate\", extractStatePort(\"i94port\"))\n",
    "immigration_df = immigration_df.withColumn(\"i94mode\", extractTravelMode(\"i94mode\"))\n",
    "immigration_df = immigration_df.withColumn(\"i94addr\", extractAddress(\"i94addr\"))\n",
    "immigration_df = immigration_df.withColumn(\"i94visa\", extractVisa(\"i94visa\"))"
   ]
  },
  {
   "cell_type": "code",
   "execution_count": 18,
   "metadata": {
    "execution": {
     "iopub.execute_input": "2022-11-21T02:29:45.915509Z",
     "iopub.status.busy": "2022-11-21T02:29:45.914826Z",
     "iopub.status.idle": "2022-11-21T02:29:52.135692Z",
     "shell.execute_reply": "2022-11-21T02:29:52.134725Z",
     "shell.execute_reply.started": "2022-11-21T02:29:45.915469Z"
    },
    "tags": []
   },
   "outputs": [
    {
     "data": {
      "application/vnd.jupyter.widget-view+json": {
       "model_id": "a0bbd6db59004a25b608e8e21bd9156e",
       "version_major": 2,
       "version_minor": 0
      },
      "text/plain": [
       "VBox()"
      ]
     },
     "metadata": {},
     "output_type": "display_data"
    },
    {
     "data": {
      "application/vnd.jupyter.widget-view+json": {
       "model_id": "",
       "version_major": 2,
       "version_minor": 0
      },
      "text/plain": [
       "FloatProgress(value=0.0, bar_style='info', description='Progress:', layout=Layout(height='25px', width='50%'),…"
      ]
     },
     "metadata": {},
     "output_type": "display_data"
    },
    {
     "name": "stdout",
     "output_type": "stream",
     "text": [
      "40790529"
     ]
    }
   ],
   "source": [
    "immigration_df.count()"
   ]
  },
  {
   "cell_type": "code",
   "execution_count": 19,
   "metadata": {
    "editable": true,
    "execution": {
     "iopub.execute_input": "2022-11-21T02:29:52.177279Z",
     "iopub.status.busy": "2022-11-21T02:29:52.140113Z",
     "iopub.status.idle": "2022-11-21T02:29:58.325549Z",
     "shell.execute_reply": "2022-11-21T02:29:58.324611Z",
     "shell.execute_reply.started": "2022-11-21T02:29:52.177213Z"
    },
    "tags": []
   },
   "outputs": [
    {
     "data": {
      "application/vnd.jupyter.widget-view+json": {
       "model_id": "53e513b88b5c49cbad39ba5a123e5955",
       "version_major": 2,
       "version_minor": 0
      },
      "text/plain": [
       "VBox()"
      ]
     },
     "metadata": {},
     "output_type": "display_data"
    },
    {
     "data": {
      "application/vnd.jupyter.widget-view+json": {
       "model_id": "",
       "version_major": 2,
       "version_minor": 0
      },
      "text/plain": [
       "FloatProgress(value=0.0, bar_style='info', description='Progress:', layout=Layout(height='25px', width='50%'),…"
      ]
     },
     "metadata": {},
     "output_type": "display_data"
    },
    {
     "name": "stdout",
     "output_type": "stream",
     "text": [
      "[Row(cicid=5680949, i94yr=2016, i94cit='ITALY', i94res='ITALY', i94port='NYC', arrdate=20659, i94mode='Air', i94addr='NEW YORK', depdate=None, i94bir=30, i94visa='Student', count=1, dtadfile=datetime.date(2016, 7, 24), visapost='NPL', occup=None, entdepa='G', entdepd=None, entdepu=None, matflag=None, biryear=1986, dtaddto='D/S', gender='F', insnum=None, airline='IG', admnum=-1347517211, fltno='3940', visatype='F1', i94mon=7, airportcountry='NEW YORK', airportstate='NY', dtadddto=None), Row(cicid=5680950, i94yr=2016, i94cit='CHINA, PRC', i94res='CHINA, PRC', i94port='DET', arrdate=20659, i94mode='Air', i94addr='ILLINOIS', depdate=20679, i94bir=46, i94visa='Pleasure', count=1, dtadfile=datetime.date(2016, 8, 13), visapost=None, occup=None, entdepa='G', entdepd='O', entdepu=None, matflag='M', biryear=1970, dtaddto='01232017', gender='M', insnum='78652', airline='DL', admnum=-1347516211, fltno='188', visatype='B2', i94mon=7, airportcountry='DETROIT', airportstate='MI', dtadddto=datetime.date(2017, 1, 23))]"
     ]
    }
   ],
   "source": [
    "immigration_df = immigration_df.withColumn('dtadfile', to_date(col('dtadfile'), format='yyyyMMdd'))\n",
    "immigration_df = immigration_df.withColumn('dtadddto', to_date(col('dtaddto'), format='MMddyyyy'))\n",
    "immigration_df.take(2)"
   ]
  },
  {
   "cell_type": "code",
   "execution_count": 20,
   "metadata": {
    "editable": true,
    "execution": {
     "iopub.execute_input": "2022-11-21T02:29:58.327191Z",
     "iopub.status.busy": "2022-11-21T02:29:58.326759Z",
     "iopub.status.idle": "2022-11-21T02:29:58.595031Z",
     "shell.execute_reply": "2022-11-21T02:29:58.593846Z",
     "shell.execute_reply.started": "2022-11-21T02:29:58.327158Z"
    },
    "tags": []
   },
   "outputs": [
    {
     "data": {
      "application/vnd.jupyter.widget-view+json": {
       "model_id": "474ca511b6b64e65845d49b0d1d00f76",
       "version_major": 2,
       "version_minor": 0
      },
      "text/plain": [
       "VBox()"
      ]
     },
     "metadata": {},
     "output_type": "display_data"
    },
    {
     "data": {
      "application/vnd.jupyter.widget-view+json": {
       "model_id": "",
       "version_major": 2,
       "version_minor": 0
      },
      "text/plain": [
       "FloatProgress(value=0.0, bar_style='info', description='Progress:', layout=Layout(height='25px', width='50%'),…"
      ]
     },
     "metadata": {},
     "output_type": "display_data"
    }
   ],
   "source": [
    "import datetime\n",
    "@udf(TimestampType())\n",
    "def convertToTimestamp(x):\n",
    "    try:\n",
    "        return datetime.timedelta(days=int(x)) + datetime.datetime(1960,1,1)\n",
    "    except:\n",
    "        return datetime.datetime(1960,1,1)\n",
    "    \n",
    "\n",
    "immigration_df = immigration_df.withColumn('arrdate', convertToTimestamp('arrdate'))\n",
    "immigration_df = immigration_df.withColumn('depdate', convertToTimestamp('depdate'))"
   ]
  },
  {
   "cell_type": "code",
   "execution_count": 21,
   "metadata": {
    "editable": true,
    "execution": {
     "iopub.execute_input": "2022-11-21T02:29:58.598021Z",
     "iopub.status.busy": "2022-11-21T02:29:58.597443Z",
     "iopub.status.idle": "2022-11-21T02:29:59.642252Z",
     "shell.execute_reply": "2022-11-21T02:29:59.641097Z",
     "shell.execute_reply.started": "2022-11-21T02:29:58.597981Z"
    },
    "tags": []
   },
   "outputs": [
    {
     "data": {
      "application/vnd.jupyter.widget-view+json": {
       "model_id": "a8ab47e86724436592f6b09ba624d7e3",
       "version_major": 2,
       "version_minor": 0
      },
      "text/plain": [
       "VBox()"
      ]
     },
     "metadata": {},
     "output_type": "display_data"
    },
    {
     "data": {
      "application/vnd.jupyter.widget-view+json": {
       "model_id": "",
       "version_major": 2,
       "version_minor": 0
      },
      "text/plain": [
       "FloatProgress(value=0.0, bar_style='info', description='Progress:', layout=Layout(height='25px', width='50%'),…"
      ]
     },
     "metadata": {},
     "output_type": "display_data"
    },
    {
     "name": "stdout",
     "output_type": "stream",
     "text": [
      "+-------+-----+--------------+--------------+-------+-------------------+-------+----------+-------------------+------+--------+-----+----------+--------+-----+-------+-------+-------+-------+-------+--------+------+------+-------+-----------+-----+--------+------+--------------+------------+----------+\n",
      "|  cicid|i94yr|        i94cit|        i94res|i94port|            arrdate|i94mode|   i94addr|            depdate|i94bir| i94visa|count|  dtadfile|visapost|occup|entdepa|entdepd|entdepu|matflag|biryear| dtaddto|gender|insnum|airline|     admnum|fltno|visatype|i94mon|airportcountry|airportstate|  dtadddto|\n",
      "+-------+-----+--------------+--------------+-------+-------------------+-------+----------+-------------------+------+--------+-----+----------+--------+-----+-------+-------+-------+-------+-------+--------+------+------+-------+-----------+-----+--------+------+--------------+------------+----------+\n",
      "|5680949| 2016|         ITALY|         ITALY|    NYC|2016-07-24 00:00:00|    Air|  NEW YORK|1960-01-01 00:00:00|    30| Student|    1|2016-07-24|     NPL| null|      G|   null|   null|   null|   1986|     D/S|     F|  null|     IG|-1347517211| 3940|      F1|     7|      NEW YORK|          NY|      null|\n",
      "|5680950| 2016|    CHINA, PRC|    CHINA, PRC|    DET|2016-07-24 00:00:00|    Air|  ILLINOIS|2016-08-13 00:00:00|    46|Pleasure|    1|2016-08-13|    null| null|      G|      O|   null|      M|   1970|01232017|     M| 78652|     DL|-1347516211|  188|      B2|     7|       DETROIT|          MI|2017-01-23|\n",
      "|5680953| 2016|    CHINA, PRC|    CHINA, PRC|    SEA|2016-07-24 00:00:00|    Air|WASHINGTON|2016-08-04 00:00:00|    36|Pleasure|    1|2016-08-04|    null| null|      G|      O|   null|      M|   1980|01232017|     F|130660|     OZ|-1347512511|  272|      B2|     7|       SEATTLE|          WA|2017-01-23|\n",
      "|5680954| 2016|UNITED KINGDOM|UNITED KINGDOM|    ORL|2016-07-24 00:00:00|    Air|   FLORIDA|2016-08-07 00:00:00|    17|Pleasure|    1|2016-08-08|    null| null|      O|      O|   null|      M|   1999|10212016|     F|294090|     MT|-1347511611|  176|      WT|     7|       ORLANDO|          FL|2016-10-21|\n",
      "|5680956| 2016|         INDIA|         INDIA|    MIA|2016-07-24 00:00:00|    Air|   FLORIDA|2016-10-01 00:00:00|    23|Pleasure|    1|2016-07-24|     HYD| null|      G|      O|   null|      M|   1993|01232017|     M| 21180|     QR|-1347509811|  777|      B2|     7|         MIAMI|          FL|2017-01-23|\n",
      "+-------+-----+--------------+--------------+-------+-------------------+-------+----------+-------------------+------+--------+-----+----------+--------+-----+-------+-------+-------+-------+-------+--------+------+------+-------+-----------+-----+--------+------+--------------+------------+----------+\n",
      "only showing top 5 rows"
     ]
    }
   ],
   "source": [
    "immigration_df.show(5)"
   ]
  },
  {
   "cell_type": "code",
   "execution_count": 22,
   "metadata": {
    "editable": true,
    "execution": {
     "iopub.execute_input": "2022-11-21T02:29:59.644210Z",
     "iopub.status.busy": "2022-11-21T02:29:59.643564Z",
     "iopub.status.idle": "2022-11-21T02:29:59.880983Z",
     "shell.execute_reply": "2022-11-21T02:29:59.880207Z",
     "shell.execute_reply.started": "2022-11-21T02:29:59.644142Z"
    },
    "tags": []
   },
   "outputs": [
    {
     "data": {
      "application/vnd.jupyter.widget-view+json": {
       "model_id": "f31cbc39616c44d7aa862932b98b1290",
       "version_major": 2,
       "version_minor": 0
      },
      "text/plain": [
       "VBox()"
      ]
     },
     "metadata": {},
     "output_type": "display_data"
    },
    {
     "data": {
      "application/vnd.jupyter.widget-view+json": {
       "model_id": "",
       "version_major": 2,
       "version_minor": 0
      },
      "text/plain": [
       "FloatProgress(value=0.0, bar_style='info', description='Progress:', layout=Layout(height='25px', width='50%'),…"
      ]
     },
     "metadata": {},
     "output_type": "display_data"
    }
   ],
   "source": [
    "@udf(StringType())\n",
    "def lowerString(x):\n",
    "    if x != None:\n",
    "        return x.lower()\n",
    "    else:\n",
    "        return x\n",
    "    "
   ]
  },
  {
   "cell_type": "code",
   "execution_count": 23,
   "metadata": {
    "editable": true,
    "execution": {
     "iopub.execute_input": "2022-11-21T02:29:59.888163Z",
     "iopub.status.busy": "2022-11-21T02:29:59.887535Z",
     "iopub.status.idle": "2022-11-21T02:30:00.226790Z",
     "shell.execute_reply": "2022-11-21T02:30:00.225829Z",
     "shell.execute_reply.started": "2022-11-21T02:29:59.888109Z"
    },
    "tags": []
   },
   "outputs": [
    {
     "data": {
      "application/vnd.jupyter.widget-view+json": {
       "model_id": "facee2e4b0a445658357541cd5ca2a2a",
       "version_major": 2,
       "version_minor": 0
      },
      "text/plain": [
       "VBox()"
      ]
     },
     "metadata": {},
     "output_type": "display_data"
    },
    {
     "data": {
      "application/vnd.jupyter.widget-view+json": {
       "model_id": "",
       "version_major": 2,
       "version_minor": 0
      },
      "text/plain": [
       "FloatProgress(value=0.0, bar_style='info', description='Progress:', layout=Layout(height='25px', width='50%'),…"
      ]
     },
     "metadata": {},
     "output_type": "display_data"
    }
   ],
   "source": [
    "immigration_df = immigration_df.withColumn(\"airportcountry\", lowerString(\"airportcountry\"))"
   ]
  },
  {
   "cell_type": "code",
   "execution_count": 24,
   "metadata": {
    "editable": true,
    "execution": {
     "iopub.execute_input": "2022-11-21T02:30:00.230893Z",
     "iopub.status.busy": "2022-11-21T02:30:00.230273Z",
     "iopub.status.idle": "2022-11-21T02:30:02.671720Z",
     "shell.execute_reply": "2022-11-21T02:30:02.655413Z",
     "shell.execute_reply.started": "2022-11-21T02:30:00.230857Z"
    },
    "tags": []
   },
   "outputs": [
    {
     "data": {
      "application/vnd.jupyter.widget-view+json": {
       "model_id": "a0ff0651eb2c4ec8a8e43130129b2012",
       "version_major": 2,
       "version_minor": 0
      },
      "text/plain": [
       "VBox()"
      ]
     },
     "metadata": {},
     "output_type": "display_data"
    },
    {
     "data": {
      "application/vnd.jupyter.widget-view+json": {
       "model_id": "",
       "version_major": 2,
       "version_minor": 0
      },
      "text/plain": [
       "FloatProgress(value=0.0, bar_style='info', description='Progress:', layout=Layout(height='25px', width='50%'),…"
      ]
     },
     "metadata": {},
     "output_type": "display_data"
    },
    {
     "name": "stdout",
     "output_type": "stream",
     "text": [
      "+-------+-----+--------------+--------------+-------+-------------------+-------+----------+-------------------+------+--------+-----+----------+--------+-----+-------+-------+-------+-------+-------+--------+------+------+-------+-----------+-----+--------+------+--------------+------------+----------+\n",
      "|  cicid|i94yr|        i94cit|        i94res|i94port|            arrdate|i94mode|   i94addr|            depdate|i94bir| i94visa|count|  dtadfile|visapost|occup|entdepa|entdepd|entdepu|matflag|biryear| dtaddto|gender|insnum|airline|     admnum|fltno|visatype|i94mon|airportcountry|airportstate|  dtadddto|\n",
      "+-------+-----+--------------+--------------+-------+-------------------+-------+----------+-------------------+------+--------+-----+----------+--------+-----+-------+-------+-------+-------+-------+--------+------+------+-------+-----------+-----+--------+------+--------------+------------+----------+\n",
      "|5680949| 2016|         ITALY|         ITALY|    NYC|2016-07-24 00:00:00|    Air|  NEW YORK|1960-01-01 00:00:00|    30| Student|    1|2016-07-24|     NPL| null|      G|   null|   null|   null|   1986|     D/S|     F|  null|     IG|-1347517211| 3940|      F1|     7|      new york|          NY|      null|\n",
      "|5680950| 2016|    CHINA, PRC|    CHINA, PRC|    DET|2016-07-24 00:00:00|    Air|  ILLINOIS|2016-08-13 00:00:00|    46|Pleasure|    1|2016-08-13|    null| null|      G|      O|   null|      M|   1970|01232017|     M| 78652|     DL|-1347516211|  188|      B2|     7|       detroit|          MI|2017-01-23|\n",
      "|5680953| 2016|    CHINA, PRC|    CHINA, PRC|    SEA|2016-07-24 00:00:00|    Air|WASHINGTON|2016-08-04 00:00:00|    36|Pleasure|    1|2016-08-04|    null| null|      G|      O|   null|      M|   1980|01232017|     F|130660|     OZ|-1347512511|  272|      B2|     7|       seattle|          WA|2017-01-23|\n",
      "|5680954| 2016|UNITED KINGDOM|UNITED KINGDOM|    ORL|2016-07-24 00:00:00|    Air|   FLORIDA|2016-08-07 00:00:00|    17|Pleasure|    1|2016-08-08|    null| null|      O|      O|   null|      M|   1999|10212016|     F|294090|     MT|-1347511611|  176|      WT|     7|       orlando|          FL|2016-10-21|\n",
      "|5680956| 2016|         INDIA|         INDIA|    MIA|2016-07-24 00:00:00|    Air|   FLORIDA|2016-10-01 00:00:00|    23|Pleasure|    1|2016-07-24|     HYD| null|      G|      O|   null|      M|   1993|01232017|     M| 21180|     QR|-1347509811|  777|      B2|     7|         miami|          FL|2017-01-23|\n",
      "+-------+-----+--------------+--------------+-------+-------------------+-------+----------+-------------------+------+--------+-----+----------+--------+-----+-------+-------+-------+-------+-------+--------+------+------+-------+-----------+-----+--------+------+--------------+------------+----------+"
     ]
    }
   ],
   "source": [
    "immigration_df.limit(5).show()"
   ]
  },
  {
   "cell_type": "code",
   "execution_count": 25,
   "metadata": {
    "editable": true,
    "execution": {
     "iopub.execute_input": "2022-11-21T02:30:02.793129Z",
     "iopub.status.busy": "2022-11-21T02:30:02.753712Z",
     "iopub.status.idle": "2022-11-21T02:30:09.824306Z",
     "shell.execute_reply": "2022-11-21T02:30:09.823326Z",
     "shell.execute_reply.started": "2022-11-21T02:30:02.793056Z"
    },
    "tags": []
   },
   "outputs": [
    {
     "data": {
      "application/vnd.jupyter.widget-view+json": {
       "model_id": "7adc4f9eba80470698bd3e7042694c48",
       "version_major": 2,
       "version_minor": 0
      },
      "text/plain": [
       "VBox()"
      ]
     },
     "metadata": {},
     "output_type": "display_data"
    },
    {
     "data": {
      "application/vnd.jupyter.widget-view+json": {
       "model_id": "",
       "version_major": 2,
       "version_minor": 0
      },
      "text/plain": [
       "FloatProgress(value=0.0, bar_style='info', description='Progress:', layout=Layout(height='25px', width='50%'),…"
      ]
     },
     "metadata": {},
     "output_type": "display_data"
    },
    {
     "name": "stdout",
     "output_type": "stream",
     "text": [
      "40790529"
     ]
    }
   ],
   "source": [
    "immigration_df.count()"
   ]
  },
  {
   "cell_type": "code",
   "execution_count": 26,
   "metadata": {
    "execution": {
     "iopub.execute_input": "2022-11-21T02:30:09.826386Z",
     "iopub.status.busy": "2022-11-21T02:30:09.825923Z",
     "iopub.status.idle": "2022-11-21T02:30:10.101104Z",
     "shell.execute_reply": "2022-11-21T02:30:10.099910Z",
     "shell.execute_reply.started": "2022-11-21T02:30:09.826345Z"
    }
   },
   "outputs": [
    {
     "data": {
      "application/vnd.jupyter.widget-view+json": {
       "model_id": "6e4b5920afe54829a54c7e5083f075a9",
       "version_major": 2,
       "version_minor": 0
      },
      "text/plain": [
       "VBox()"
      ]
     },
     "metadata": {},
     "output_type": "display_data"
    },
    {
     "data": {
      "application/vnd.jupyter.widget-view+json": {
       "model_id": "",
       "version_major": 2,
       "version_minor": 0
      },
      "text/plain": [
       "FloatProgress(value=0.0, bar_style='info', description='Progress:', layout=Layout(height='25px', width='50%'),…"
      ]
     },
     "metadata": {},
     "output_type": "display_data"
    }
   ],
   "source": [
    "# immigration_df.select([count(when(col(colname).isNull(),1)).alias('n'+colname) for colname in immigration_df.columns]).head()"
   ]
  },
  {
   "cell_type": "code",
   "execution_count": 27,
   "metadata": {
    "editable": true,
    "execution": {
     "iopub.execute_input": "2022-11-21T02:30:10.103370Z",
     "iopub.status.busy": "2022-11-21T02:30:10.102679Z",
     "iopub.status.idle": "2022-11-21T02:30:10.406507Z",
     "shell.execute_reply": "2022-11-21T02:30:10.405760Z",
     "shell.execute_reply.started": "2022-11-21T02:30:10.103324Z"
    },
    "tags": []
   },
   "outputs": [
    {
     "data": {
      "application/vnd.jupyter.widget-view+json": {
       "model_id": "6ef8944faf5b42958afd54496b57d172",
       "version_major": 2,
       "version_minor": 0
      },
      "text/plain": [
       "VBox()"
      ]
     },
     "metadata": {},
     "output_type": "display_data"
    },
    {
     "data": {
      "application/vnd.jupyter.widget-view+json": {
       "model_id": "",
       "version_major": 2,
       "version_minor": 0
      },
      "text/plain": [
       "FloatProgress(value=0.0, bar_style='info', description='Progress:', layout=Layout(height='25px', width='50%'),…"
      ]
     },
     "metadata": {},
     "output_type": "display_data"
    }
   ],
   "source": [
    "immigration_df = immigration_df.dropna(how = \"any\", subset = [\"airportcountry\",\"airportstate\"])"
   ]
  },
  {
   "cell_type": "code",
   "execution_count": 28,
   "metadata": {
    "editable": true,
    "execution": {
     "iopub.execute_input": "2022-11-21T02:30:10.408272Z",
     "iopub.status.busy": "2022-11-21T02:30:10.407682Z",
     "iopub.status.idle": "2022-11-21T02:30:52.513047Z",
     "shell.execute_reply": "2022-11-21T02:30:52.512231Z",
     "shell.execute_reply.started": "2022-11-21T02:30:10.408230Z"
    },
    "tags": []
   },
   "outputs": [
    {
     "data": {
      "application/vnd.jupyter.widget-view+json": {
       "model_id": "f7e1946a11d5452ca931df764f2849e7",
       "version_major": 2,
       "version_minor": 0
      },
      "text/plain": [
       "VBox()"
      ]
     },
     "metadata": {},
     "output_type": "display_data"
    },
    {
     "data": {
      "application/vnd.jupyter.widget-view+json": {
       "model_id": "",
       "version_major": 2,
       "version_minor": 0
      },
      "text/plain": [
       "FloatProgress(value=0.0, bar_style='info', description='Progress:', layout=Layout(height='25px', width='50%'),…"
      ]
     },
     "metadata": {},
     "output_type": "display_data"
    },
    {
     "name": "stdout",
     "output_type": "stream",
     "text": [
      "39548799"
     ]
    }
   ],
   "source": [
    "immigration_df.count()"
   ]
  },
  {
   "cell_type": "code",
   "execution_count": 29,
   "metadata": {
    "editable": true,
    "execution": {
     "iopub.execute_input": "2022-11-21T02:30:52.515541Z",
     "iopub.status.busy": "2022-11-21T02:30:52.514847Z",
     "iopub.status.idle": "2022-11-21T02:30:53.280532Z",
     "shell.execute_reply": "2022-11-21T02:30:53.279566Z",
     "shell.execute_reply.started": "2022-11-21T02:30:52.515498Z"
    },
    "tags": []
   },
   "outputs": [
    {
     "data": {
      "application/vnd.jupyter.widget-view+json": {
       "model_id": "81688f56c3334e318e5d13877e9b0ba3",
       "version_major": 2,
       "version_minor": 0
      },
      "text/plain": [
       "VBox()"
      ]
     },
     "metadata": {},
     "output_type": "display_data"
    },
    {
     "data": {
      "application/vnd.jupyter.widget-view+json": {
       "model_id": "",
       "version_major": 2,
       "version_minor": 0
      },
      "text/plain": [
       "FloatProgress(value=0.0, bar_style='info', description='Progress:', layout=Layout(height='25px', width='50%'),…"
      ]
     },
     "metadata": {},
     "output_type": "display_data"
    }
   ],
   "source": [
    "immigration_df.createOrReplaceTempView(\"immigration_staging\")"
   ]
  },
  {
   "cell_type": "markdown",
   "metadata": {
    "editable": true,
    "tags": []
   },
   "source": [
    "##### US Demographics data cleaning"
   ]
  },
  {
   "cell_type": "code",
   "execution_count": 30,
   "metadata": {
    "editable": true,
    "execution": {
     "iopub.execute_input": "2022-11-21T02:30:53.289968Z",
     "iopub.status.busy": "2022-11-21T02:30:53.286677Z",
     "iopub.status.idle": "2022-11-21T02:30:53.617669Z",
     "shell.execute_reply": "2022-11-21T02:30:53.616629Z",
     "shell.execute_reply.started": "2022-11-21T02:30:53.289916Z"
    },
    "tags": []
   },
   "outputs": [
    {
     "data": {
      "application/vnd.jupyter.widget-view+json": {
       "model_id": "0d25ee58afba4b9c9c41d5426a8e9456",
       "version_major": 2,
       "version_minor": 0
      },
      "text/plain": [
       "VBox()"
      ]
     },
     "metadata": {},
     "output_type": "display_data"
    },
    {
     "data": {
      "application/vnd.jupyter.widget-view+json": {
       "model_id": "",
       "version_major": 2,
       "version_minor": 0
      },
      "text/plain": [
       "FloatProgress(value=0.0, bar_style='info', description='Progress:', layout=Layout(height='25px', width='50%'),…"
      ]
     },
     "metadata": {},
     "output_type": "display_data"
    },
    {
     "name": "stdout",
     "output_type": "stream",
     "text": [
      "root\n",
      " |-- City: string (nullable = true)\n",
      " |-- State: string (nullable = true)\n",
      " |-- Median Age: double (nullable = true)\n",
      " |-- Male Population: integer (nullable = true)\n",
      " |-- Female Population: integer (nullable = true)\n",
      " |-- Total Population: integer (nullable = true)\n",
      " |-- Number of Veterans: integer (nullable = true)\n",
      " |-- Foreign-born: integer (nullable = true)\n",
      " |-- Average Household Size: double (nullable = true)\n",
      " |-- State Code: string (nullable = true)\n",
      " |-- Race: string (nullable = true)\n",
      " |-- Count: integer (nullable = true)"
     ]
    }
   ],
   "source": [
    "demograhics_df.printSchema()"
   ]
  },
  {
   "cell_type": "code",
   "execution_count": 31,
   "metadata": {
    "editable": true,
    "execution": {
     "iopub.execute_input": "2022-11-21T02:30:53.619905Z",
     "iopub.status.busy": "2022-11-21T02:30:53.619223Z",
     "iopub.status.idle": "2022-11-21T02:30:54.651876Z",
     "shell.execute_reply": "2022-11-21T02:30:54.650876Z",
     "shell.execute_reply.started": "2022-11-21T02:30:53.619863Z"
    },
    "tags": []
   },
   "outputs": [
    {
     "data": {
      "application/vnd.jupyter.widget-view+json": {
       "model_id": "18704eb03ee146f8ba7513c131a97907",
       "version_major": 2,
       "version_minor": 0
      },
      "text/plain": [
       "VBox()"
      ]
     },
     "metadata": {},
     "output_type": "display_data"
    },
    {
     "data": {
      "application/vnd.jupyter.widget-view+json": {
       "model_id": "",
       "version_major": 2,
       "version_minor": 0
      },
      "text/plain": [
       "FloatProgress(value=0.0, bar_style='info', description='Progress:', layout=Layout(height='25px', width='50%'),…"
      ]
     },
     "metadata": {},
     "output_type": "display_data"
    },
    {
     "name": "stdout",
     "output_type": "stream",
     "text": [
      "2891"
     ]
    }
   ],
   "source": [
    "demograhics_df.count()"
   ]
  },
  {
   "cell_type": "code",
   "execution_count": 32,
   "metadata": {
    "editable": true,
    "execution": {
     "iopub.execute_input": "2022-11-21T02:30:54.653831Z",
     "iopub.status.busy": "2022-11-21T02:30:54.653233Z",
     "iopub.status.idle": "2022-11-21T02:30:57.478331Z",
     "shell.execute_reply": "2022-11-21T02:30:57.405071Z",
     "shell.execute_reply.started": "2022-11-21T02:30:54.653788Z"
    },
    "tags": []
   },
   "outputs": [
    {
     "data": {
      "application/vnd.jupyter.widget-view+json": {
       "model_id": "357e26cf4201464bb06a4a0dc8489e48",
       "version_major": 2,
       "version_minor": 0
      },
      "text/plain": [
       "VBox()"
      ]
     },
     "metadata": {},
     "output_type": "display_data"
    },
    {
     "data": {
      "application/vnd.jupyter.widget-view+json": {
       "model_id": "",
       "version_major": 2,
       "version_minor": 0
      },
      "text/plain": [
       "FloatProgress(value=0.0, bar_style='info', description='Progress:', layout=Layout(height='25px', width='50%'),…"
      ]
     },
     "metadata": {},
     "output_type": "display_data"
    },
    {
     "name": "stdout",
     "output_type": "stream",
     "text": [
      "+---------------------------------+\n",
      "|count(DISTINCT City, State, Race)|\n",
      "+---------------------------------+\n",
      "|                             2891|\n",
      "+---------------------------------+"
     ]
    }
   ],
   "source": [
    "demograhics_df.select(countDistinct(\"City\",\"State\",\"Race\")).show()\n"
   ]
  },
  {
   "cell_type": "code",
   "execution_count": 33,
   "metadata": {
    "editable": true,
    "execution": {
     "iopub.execute_input": "2022-11-21T02:30:57.480353Z",
     "iopub.status.busy": "2022-11-21T02:30:57.479717Z",
     "iopub.status.idle": "2022-11-21T02:30:58.594601Z",
     "shell.execute_reply": "2022-11-21T02:30:58.593551Z",
     "shell.execute_reply.started": "2022-11-21T02:30:57.480307Z"
    },
    "tags": []
   },
   "outputs": [
    {
     "data": {
      "application/vnd.jupyter.widget-view+json": {
       "model_id": "23803dd61e3042cca93a04bc61653208",
       "version_major": 2,
       "version_minor": 0
      },
      "text/plain": [
       "VBox()"
      ]
     },
     "metadata": {},
     "output_type": "display_data"
    },
    {
     "data": {
      "application/vnd.jupyter.widget-view+json": {
       "model_id": "",
       "version_major": 2,
       "version_minor": 0
      },
      "text/plain": [
       "FloatProgress(value=0.0, bar_style='info', description='Progress:', layout=Layout(height='25px', width='50%'),…"
      ]
     },
     "metadata": {},
     "output_type": "display_data"
    },
    {
     "name": "stdout",
     "output_type": "stream",
     "text": [
      "+-----------+----------+----------+---------------+-----------------+----------------+------------------+------------+----------------------+----------+--------------------+-------+\n",
      "|       City|     State|Median Age|Male Population|Female Population|Total Population|Number of Veterans|Foreign-born|Average Household Size|State Code|                Race|  Count|\n",
      "+-----------+----------+----------+---------------+-----------------+----------------+------------------+------------+----------------------+----------+--------------------+-------+\n",
      "|Los Angeles|California|      35.0|        1958998|          2012898|         3971896|             85417|     1485425|                  2.86|        CA|               White|2177650|\n",
      "|Los Angeles|California|      35.0|        1958998|          2012898|         3971896|             85417|     1485425|                  2.86|        CA|               Asian| 512999|\n",
      "|Los Angeles|California|      35.0|        1958998|          2012898|         3971896|             85417|     1485425|                  2.86|        CA|American Indian a...|  63758|\n",
      "|Los Angeles|California|      35.0|        1958998|          2012898|         3971896|             85417|     1485425|                  2.86|        CA|  Hispanic or Latino|1936732|\n",
      "|Los Angeles|California|      35.0|        1958998|          2012898|         3971896|             85417|     1485425|                  2.86|        CA|Black or African-...| 404868|\n",
      "+-----------+----------+----------+---------------+-----------------+----------------+------------------+------------+----------------------+----------+--------------------+-------+"
     ]
    }
   ],
   "source": [
    "demograhics_df.filter(demograhics_df.City == \"Los Angeles\").filter(demograhics_df.State == \"California\").show()"
   ]
  },
  {
   "cell_type": "code",
   "execution_count": 34,
   "metadata": {
    "editable": true,
    "execution": {
     "iopub.execute_input": "2022-11-21T02:30:58.596318Z",
     "iopub.status.busy": "2022-11-21T02:30:58.595982Z",
     "iopub.status.idle": "2022-11-21T02:30:59.591700Z",
     "shell.execute_reply": "2022-11-21T02:30:59.590400Z",
     "shell.execute_reply.started": "2022-11-21T02:30:58.596278Z"
    },
    "tags": []
   },
   "outputs": [
    {
     "data": {
      "application/vnd.jupyter.widget-view+json": {
       "model_id": "641b28bf045849bca20bf9337202e522",
       "version_major": 2,
       "version_minor": 0
      },
      "text/plain": [
       "VBox()"
      ]
     },
     "metadata": {},
     "output_type": "display_data"
    },
    {
     "data": {
      "application/vnd.jupyter.widget-view+json": {
       "model_id": "",
       "version_major": 2,
       "version_minor": 0
      },
      "text/plain": [
       "FloatProgress(value=0.0, bar_style='info', description='Progress:', layout=Layout(height='25px', width='50%'),…"
      ]
     },
     "metadata": {},
     "output_type": "display_data"
    },
    {
     "name": "stdout",
     "output_type": "stream",
     "text": [
      "Row(nulls_City=0, nulls_State=0, nulls_Median Age=0, nulls_Male Population=3, nulls_Female Population=3, nulls_Total Population=0, nulls_Number of Veterans=13, nulls_Foreign-born=13, nulls_Average Household Size=16, nulls_State Code=0, nulls_Race=0, nulls_Count=0)"
     ]
    }
   ],
   "source": [
    "\n",
    "demograhics_df.select([count(when(col(colname).isNull(),1)).alias('nulls_'+colname) for colname in demograhics_df.columns]).head()"
   ]
  },
  {
   "cell_type": "code",
   "execution_count": 35,
   "metadata": {
    "editable": true,
    "execution": {
     "iopub.execute_input": "2022-11-21T02:30:59.594204Z",
     "iopub.status.busy": "2022-11-21T02:30:59.593399Z",
     "iopub.status.idle": "2022-11-21T02:31:03.118789Z",
     "shell.execute_reply": "2022-11-21T02:31:03.109049Z",
     "shell.execute_reply.started": "2022-11-21T02:30:59.594160Z"
    },
    "tags": []
   },
   "outputs": [
    {
     "data": {
      "application/vnd.jupyter.widget-view+json": {
       "model_id": "ba888e7dff154873862cb43a8837d7a2",
       "version_major": 2,
       "version_minor": 0
      },
      "text/plain": [
       "VBox()"
      ]
     },
     "metadata": {},
     "output_type": "display_data"
    },
    {
     "data": {
      "application/vnd.jupyter.widget-view+json": {
       "model_id": "",
       "version_major": 2,
       "version_minor": 0
      },
      "text/plain": [
       "FloatProgress(value=0.0, bar_style='info', description='Progress:', layout=Layout(height='25px', width='50%'),…"
      ]
     },
     "metadata": {},
     "output_type": "display_data"
    },
    {
     "name": "stdout",
     "output_type": "stream",
     "text": [
      "2891"
     ]
    }
   ],
   "source": [
    "# no need to drop na \n",
    "demograhics_df = demograhics_df.drop_duplicates(['City','State','Race'])\n",
    "demograhics_df.count()"
   ]
  },
  {
   "cell_type": "code",
   "execution_count": 36,
   "metadata": {
    "editable": true,
    "execution": {
     "iopub.execute_input": "2022-11-21T02:31:03.133664Z",
     "iopub.status.busy": "2022-11-21T02:31:03.120092Z",
     "iopub.status.idle": "2022-11-21T02:31:03.886608Z",
     "shell.execute_reply": "2022-11-21T02:31:03.885433Z",
     "shell.execute_reply.started": "2022-11-21T02:31:03.133603Z"
    },
    "tags": []
   },
   "outputs": [
    {
     "data": {
      "application/vnd.jupyter.widget-view+json": {
       "model_id": "26191d8dd5074b74bb65d3355cfbf68a",
       "version_major": 2,
       "version_minor": 0
      },
      "text/plain": [
       "VBox()"
      ]
     },
     "metadata": {},
     "output_type": "display_data"
    },
    {
     "data": {
      "application/vnd.jupyter.widget-view+json": {
       "model_id": "",
       "version_major": 2,
       "version_minor": 0
      },
      "text/plain": [
       "FloatProgress(value=0.0, bar_style='info', description='Progress:', layout=Layout(height='25px', width='50%'),…"
      ]
     },
     "metadata": {},
     "output_type": "display_data"
    }
   ],
   "source": [
    "demograhics_df = demograhics_df.withColumn(\"City\", lowerString(\"City\"))"
   ]
  },
  {
   "cell_type": "code",
   "execution_count": 37,
   "metadata": {
    "editable": true,
    "execution": {
     "iopub.execute_input": "2022-11-21T02:31:03.889022Z",
     "iopub.status.busy": "2022-11-21T02:31:03.888278Z",
     "iopub.status.idle": "2022-11-21T02:31:04.794026Z",
     "shell.execute_reply": "2022-11-21T02:31:04.792818Z",
     "shell.execute_reply.started": "2022-11-21T02:31:03.888978Z"
    },
    "tags": []
   },
   "outputs": [
    {
     "data": {
      "application/vnd.jupyter.widget-view+json": {
       "model_id": "be83dfe65f854039904c590d79e03de5",
       "version_major": 2,
       "version_minor": 0
      },
      "text/plain": [
       "VBox()"
      ]
     },
     "metadata": {},
     "output_type": "display_data"
    },
    {
     "data": {
      "application/vnd.jupyter.widget-view+json": {
       "model_id": "",
       "version_major": 2,
       "version_minor": 0
      },
      "text/plain": [
       "FloatProgress(value=0.0, bar_style='info', description='Progress:', layout=Layout(height='25px', width='50%'),…"
      ]
     },
     "metadata": {},
     "output_type": "display_data"
    }
   ],
   "source": [
    "for c in demograhics_df.columns:\n",
    "    demograhics_df = demograhics_df.withColumnRenamed(c,c.replace(' ', '_'))\n",
    "demograhics_df = demograhics_df.withColumnRenamed(\"Foreign-born\",\"Foreign_born\")"
   ]
  },
  {
   "cell_type": "code",
   "execution_count": 38,
   "metadata": {
    "editable": true,
    "execution": {
     "iopub.execute_input": "2022-11-21T02:31:04.799957Z",
     "iopub.status.busy": "2022-11-21T02:31:04.796267Z",
     "iopub.status.idle": "2022-11-21T02:31:06.609807Z",
     "shell.execute_reply": "2022-11-21T02:31:06.608674Z",
     "shell.execute_reply.started": "2022-11-21T02:31:04.799912Z"
    },
    "tags": []
   },
   "outputs": [
    {
     "data": {
      "application/vnd.jupyter.widget-view+json": {
       "model_id": "a558c585f3d24c5a9b6aaf6caefa903f",
       "version_major": 2,
       "version_minor": 0
      },
      "text/plain": [
       "VBox()"
      ]
     },
     "metadata": {},
     "output_type": "display_data"
    },
    {
     "data": {
      "application/vnd.jupyter.widget-view+json": {
       "model_id": "",
       "version_major": 2,
       "version_minor": 0
      },
      "text/plain": [
       "FloatProgress(value=0.0, bar_style='info', description='Progress:', layout=Layout(height='25px', width='50%'),…"
      ]
     },
     "metadata": {},
     "output_type": "display_data"
    },
    {
     "name": "stdout",
     "output_type": "stream",
     "text": [
      "+-------------+----------+----------+---------------+-----------------+----------------+------------------+------------+----------------------+----------+--------------------+------+\n",
      "|         City|     State|Median_Age|Male_Population|Female_Population|Total_Population|Number_of_Veterans|Foreign_born|Average_Household_Size|State_Code|                Race| Count|\n",
      "+-------------+----------+----------+---------------+-----------------+----------------+------------------+------------+----------------------+----------+--------------------+------+\n",
      "|      alafaya|   Florida|      33.5|          39504|            45760|           85264|              4176|       15842|                  2.94|        FL|               White| 63666|\n",
      "| baldwin park|California|      35.8|          38747|            38309|           77056|               780|       34322|                  4.13|        CA|Black or African-...|  1560|\n",
      "|      houston|     Texas|      32.6|        1149686|          1148942|         2298628|             71898|      696210|                  2.66|        TX|               Asian|173854|\n",
      "|   las cruces|New Mexico|      32.7|          47835|            53809|          101644|              9421|       11888|                  2.58|        NM|               White| 91201|\n",
      "|missouri city|     Texas|      37.2|          34932|            36846|           71778|              4274|       18556|                  3.03|        TX|               Asian| 17854|\n",
      "+-------------+----------+----------+---------------+-----------------+----------------+------------------+------------+----------------------+----------+--------------------+------+\n",
      "only showing top 5 rows"
     ]
    }
   ],
   "source": [
    "demograhics_df.show(5)"
   ]
  },
  {
   "cell_type": "code",
   "execution_count": 39,
   "metadata": {
    "editable": true,
    "execution": {
     "iopub.execute_input": "2022-11-21T02:31:06.611992Z",
     "iopub.status.busy": "2022-11-21T02:31:06.611369Z",
     "iopub.status.idle": "2022-11-21T02:31:06.946525Z",
     "shell.execute_reply": "2022-11-21T02:31:06.945265Z",
     "shell.execute_reply.started": "2022-11-21T02:31:06.611947Z"
    },
    "tags": []
   },
   "outputs": [
    {
     "data": {
      "application/vnd.jupyter.widget-view+json": {
       "model_id": "c3e850967da040c5ac1ab7f794de1520",
       "version_major": 2,
       "version_minor": 0
      },
      "text/plain": [
       "VBox()"
      ]
     },
     "metadata": {},
     "output_type": "display_data"
    },
    {
     "data": {
      "application/vnd.jupyter.widget-view+json": {
       "model_id": "",
       "version_major": 2,
       "version_minor": 0
      },
      "text/plain": [
       "FloatProgress(value=0.0, bar_style='info', description='Progress:', layout=Layout(height='25px', width='50%'),…"
      ]
     },
     "metadata": {},
     "output_type": "display_data"
    }
   ],
   "source": [
    "demograhics_df.createOrReplaceTempView(\"demographics\")"
   ]
  },
  {
   "cell_type": "markdown",
   "metadata": {
    "editable": true,
    "tags": []
   },
   "source": [
    "#### Temperature data cleaning"
   ]
  },
  {
   "cell_type": "code",
   "execution_count": 40,
   "metadata": {
    "editable": true,
    "execution": {
     "iopub.execute_input": "2022-11-21T02:31:06.948862Z",
     "iopub.status.busy": "2022-11-21T02:31:06.948101Z",
     "iopub.status.idle": "2022-11-21T02:31:09.986545Z",
     "shell.execute_reply": "2022-11-21T02:31:09.985489Z",
     "shell.execute_reply.started": "2022-11-21T02:31:06.948814Z"
    },
    "tags": []
   },
   "outputs": [
    {
     "data": {
      "application/vnd.jupyter.widget-view+json": {
       "model_id": "4b8cf7233de348999bd9a44a0435559c",
       "version_major": 2,
       "version_minor": 0
      },
      "text/plain": [
       "VBox()"
      ]
     },
     "metadata": {},
     "output_type": "display_data"
    },
    {
     "data": {
      "application/vnd.jupyter.widget-view+json": {
       "model_id": "",
       "version_major": 2,
       "version_minor": 0
      },
      "text/plain": [
       "FloatProgress(value=0.0, bar_style='info', description='Progress:', layout=Layout(height='25px', width='50%'),…"
      ]
     },
     "metadata": {},
     "output_type": "display_data"
    },
    {
     "name": "stdout",
     "output_type": "stream",
     "text": [
      "8599212"
     ]
    }
   ],
   "source": [
    "temperature_df.count()"
   ]
  },
  {
   "cell_type": "code",
   "execution_count": 41,
   "metadata": {
    "editable": true,
    "execution": {
     "iopub.execute_input": "2022-11-21T02:31:09.988470Z",
     "iopub.status.busy": "2022-11-21T02:31:09.987870Z",
     "iopub.status.idle": "2022-11-21T02:31:10.782091Z",
     "shell.execute_reply": "2022-11-21T02:31:10.779996Z",
     "shell.execute_reply.started": "2022-11-21T02:31:09.988428Z"
    }
   },
   "outputs": [
    {
     "data": {
      "application/vnd.jupyter.widget-view+json": {
       "model_id": "a322e4971a5a48a49d1bce26ef5c264b",
       "version_major": 2,
       "version_minor": 0
      },
      "text/plain": [
       "VBox()"
      ]
     },
     "metadata": {},
     "output_type": "display_data"
    },
    {
     "data": {
      "application/vnd.jupyter.widget-view+json": {
       "model_id": "",
       "version_major": 2,
       "version_minor": 0
      },
      "text/plain": [
       "FloatProgress(value=0.0, bar_style='info', description='Progress:', layout=Layout(height='25px', width='50%'),…"
      ]
     },
     "metadata": {},
     "output_type": "display_data"
    },
    {
     "name": "stdout",
     "output_type": "stream",
     "text": [
      "root\n",
      " |-- dt: timestamp (nullable = true)\n",
      " |-- AverageTemperature: double (nullable = true)\n",
      " |-- AverageTemperatureUncertainty: double (nullable = true)\n",
      " |-- City: string (nullable = true)\n",
      " |-- Country: string (nullable = true)\n",
      " |-- Latitude: string (nullable = true)\n",
      " |-- Longitude: string (nullable = true)"
     ]
    }
   ],
   "source": [
    "temperature_df.printSchema()"
   ]
  },
  {
   "cell_type": "code",
   "execution_count": 42,
   "metadata": {
    "editable": true,
    "execution": {
     "iopub.execute_input": "2022-11-21T02:31:10.784587Z",
     "iopub.status.busy": "2022-11-21T02:31:10.783729Z",
     "iopub.status.idle": "2022-11-21T02:31:11.304023Z",
     "shell.execute_reply": "2022-11-21T02:31:11.303023Z",
     "shell.execute_reply.started": "2022-11-21T02:31:10.784543Z"
    },
    "tags": []
   },
   "outputs": [
    {
     "data": {
      "application/vnd.jupyter.widget-view+json": {
       "model_id": "00ece891afb44473b3c4b6ba238c5d14",
       "version_major": 2,
       "version_minor": 0
      },
      "text/plain": [
       "VBox()"
      ]
     },
     "metadata": {},
     "output_type": "display_data"
    },
    {
     "data": {
      "application/vnd.jupyter.widget-view+json": {
       "model_id": "",
       "version_major": 2,
       "version_minor": 0
      },
      "text/plain": [
       "FloatProgress(value=0.0, bar_style='info', description='Progress:', layout=Layout(height='25px', width='50%'),…"
      ]
     },
     "metadata": {},
     "output_type": "display_data"
    }
   ],
   "source": [
    "temperature_df = temperature_df.filter(temperature_df.Country == \"United States\")"
   ]
  },
  {
   "cell_type": "code",
   "execution_count": 43,
   "metadata": {
    "editable": true,
    "execution": {
     "iopub.execute_input": "2022-11-21T02:31:11.308361Z",
     "iopub.status.busy": "2022-11-21T02:31:11.308020Z",
     "iopub.status.idle": "2022-11-21T02:31:14.293649Z",
     "shell.execute_reply": "2022-11-21T02:31:14.292604Z",
     "shell.execute_reply.started": "2022-11-21T02:31:11.308330Z"
    },
    "tags": []
   },
   "outputs": [
    {
     "data": {
      "application/vnd.jupyter.widget-view+json": {
       "model_id": "3eb2e81351de49699f5e187fee5f722b",
       "version_major": 2,
       "version_minor": 0
      },
      "text/plain": [
       "VBox()"
      ]
     },
     "metadata": {},
     "output_type": "display_data"
    },
    {
     "data": {
      "application/vnd.jupyter.widget-view+json": {
       "model_id": "",
       "version_major": 2,
       "version_minor": 0
      },
      "text/plain": [
       "FloatProgress(value=0.0, bar_style='info', description='Progress:', layout=Layout(height='25px', width='50%'),…"
      ]
     },
     "metadata": {},
     "output_type": "display_data"
    },
    {
     "name": "stdout",
     "output_type": "stream",
     "text": [
      "687289"
     ]
    }
   ],
   "source": [
    "temperature_df.count()"
   ]
  },
  {
   "cell_type": "code",
   "execution_count": 44,
   "metadata": {
    "editable": true,
    "execution": {
     "iopub.execute_input": "2022-11-21T02:31:14.295898Z",
     "iopub.status.busy": "2022-11-21T02:31:14.295169Z",
     "iopub.status.idle": "2022-11-21T02:31:33.338651Z",
     "shell.execute_reply": "2022-11-21T02:31:33.337489Z",
     "shell.execute_reply.started": "2022-11-21T02:31:14.295852Z"
    },
    "tags": []
   },
   "outputs": [
    {
     "data": {
      "application/vnd.jupyter.widget-view+json": {
       "model_id": "0bd3485cb4f94612a46652c7a2bb27d1",
       "version_major": 2,
       "version_minor": 0
      },
      "text/plain": [
       "VBox()"
      ]
     },
     "metadata": {},
     "output_type": "display_data"
    },
    {
     "data": {
      "application/vnd.jupyter.widget-view+json": {
       "model_id": "",
       "version_major": 2,
       "version_minor": 0
      },
      "text/plain": [
       "FloatProgress(value=0.0, bar_style='info', description='Progress:', layout=Layout(height='25px', width='50%'),…"
      ]
     },
     "metadata": {},
     "output_type": "display_data"
    },
    {
     "name": "stdout",
     "output_type": "stream",
     "text": [
      "Row(dt=datetime.datetime(1849, 1, 1, 0, 0), AverageTemperature=8.818999999999999, AverageTemperatureUncertainty=2.5580000000000003, City='Los Angeles', Country='United States', Latitude='34.56N', Longitude='118.70W')"
     ]
    }
   ],
   "source": [
    "temperature_df.filter(temperature_df.Country == \"United States\").filter(temperature_df.City == \"Los Angeles\").head()"
   ]
  },
  {
   "cell_type": "code",
   "execution_count": 45,
   "metadata": {
    "editable": true,
    "execution": {
     "iopub.execute_input": "2022-11-21T02:31:33.341184Z",
     "iopub.status.busy": "2022-11-21T02:31:33.340432Z",
     "iopub.status.idle": "2022-11-21T02:31:43.151854Z",
     "shell.execute_reply": "2022-11-21T02:31:43.149858Z",
     "shell.execute_reply.started": "2022-11-21T02:31:33.341143Z"
    },
    "tags": []
   },
   "outputs": [
    {
     "data": {
      "application/vnd.jupyter.widget-view+json": {
       "model_id": "6d51ee23d1ca4494a99695252f24b4e6",
       "version_major": 2,
       "version_minor": 0
      },
      "text/plain": [
       "VBox()"
      ]
     },
     "metadata": {},
     "output_type": "display_data"
    },
    {
     "data": {
      "application/vnd.jupyter.widget-view+json": {
       "model_id": "",
       "version_major": 2,
       "version_minor": 0
      },
      "text/plain": [
       "FloatProgress(value=0.0, bar_style='info', description='Progress:', layout=Layout(height='25px', width='50%'),…"
      ]
     },
     "metadata": {},
     "output_type": "display_data"
    },
    {
     "name": "stdout",
     "output_type": "stream",
     "text": [
      "Row(nulls_dt=0, nulls_AverageTemperature=25765, nulls_AverageTemperatureUncertainty=25765, nulls_City=0, nulls_Country=0, nulls_Latitude=0, nulls_Longitude=0)"
     ]
    }
   ],
   "source": [
    "temperature_df.select([count(when(col(colname).isNull(),1)).alias('nulls_'+colname) for colname in temperature_df.columns]).head()"
   ]
  },
  {
   "cell_type": "code",
   "execution_count": 46,
   "metadata": {
    "editable": true,
    "execution": {
     "iopub.execute_input": "2022-11-21T02:31:43.155711Z",
     "iopub.status.busy": "2022-11-21T02:31:43.155321Z",
     "iopub.status.idle": "2022-11-21T02:31:55.111730Z",
     "shell.execute_reply": "2022-11-21T02:31:55.110622Z",
     "shell.execute_reply.started": "2022-11-21T02:31:43.155669Z"
    },
    "tags": []
   },
   "outputs": [
    {
     "data": {
      "application/vnd.jupyter.widget-view+json": {
       "model_id": "fdbc84fc31044c21b7576f85cc2f1d42",
       "version_major": 2,
       "version_minor": 0
      },
      "text/plain": [
       "VBox()"
      ]
     },
     "metadata": {},
     "output_type": "display_data"
    },
    {
     "data": {
      "application/vnd.jupyter.widget-view+json": {
       "model_id": "",
       "version_major": 2,
       "version_minor": 0
      },
      "text/plain": [
       "FloatProgress(value=0.0, bar_style='info', description='Progress:', layout=Layout(height='25px', width='50%'),…"
      ]
     },
     "metadata": {},
     "output_type": "display_data"
    },
    {
     "name": "stdout",
     "output_type": "stream",
     "text": [
      "639649"
     ]
    }
   ],
   "source": [
    "temperature_df = temperature_df.na.drop(how=\"any\")\n",
    "temperature_df = temperature_df.drop_duplicates(['dt','City'])\n",
    "temperature_df.count()"
   ]
  },
  {
   "cell_type": "code",
   "execution_count": 47,
   "metadata": {
    "editable": true,
    "execution": {
     "iopub.execute_input": "2022-11-21T02:31:55.114075Z",
     "iopub.status.busy": "2022-11-21T02:31:55.113287Z",
     "iopub.status.idle": "2022-11-21T02:31:55.396001Z",
     "shell.execute_reply": "2022-11-21T02:31:55.395289Z",
     "shell.execute_reply.started": "2022-11-21T02:31:55.114029Z"
    },
    "tags": []
   },
   "outputs": [
    {
     "data": {
      "application/vnd.jupyter.widget-view+json": {
       "model_id": "be11721f5ee14e518cccffba1b829c80",
       "version_major": 2,
       "version_minor": 0
      },
      "text/plain": [
       "VBox()"
      ]
     },
     "metadata": {},
     "output_type": "display_data"
    },
    {
     "data": {
      "application/vnd.jupyter.widget-view+json": {
       "model_id": "",
       "version_major": 2,
       "version_minor": 0
      },
      "text/plain": [
       "FloatProgress(value=0.0, bar_style='info', description='Progress:', layout=Layout(height='25px', width='50%'),…"
      ]
     },
     "metadata": {},
     "output_type": "display_data"
    }
   ],
   "source": [
    "temperature_df = temperature_df.withColumn(\"City\", lowerString(\"City\"))"
   ]
  },
  {
   "cell_type": "code",
   "execution_count": 48,
   "metadata": {
    "editable": true,
    "execution": {
     "iopub.execute_input": "2022-11-21T02:31:55.398092Z",
     "iopub.status.busy": "2022-11-21T02:31:55.397442Z",
     "iopub.status.idle": "2022-11-21T02:32:15.418873Z",
     "shell.execute_reply": "2022-11-21T02:32:15.417762Z",
     "shell.execute_reply.started": "2022-11-21T02:31:55.398047Z"
    },
    "tags": []
   },
   "outputs": [
    {
     "data": {
      "application/vnd.jupyter.widget-view+json": {
       "model_id": "d6fbf810a1564e6aa3cb40c143ab073a",
       "version_major": 2,
       "version_minor": 0
      },
      "text/plain": [
       "VBox()"
      ]
     },
     "metadata": {},
     "output_type": "display_data"
    },
    {
     "data": {
      "application/vnd.jupyter.widget-view+json": {
       "model_id": "",
       "version_major": 2,
       "version_minor": 0
      },
      "text/plain": [
       "FloatProgress(value=0.0, bar_style='info', description='Progress:', layout=Layout(height='25px', width='50%'),…"
      ]
     },
     "metadata": {},
     "output_type": "display_data"
    },
    {
     "name": "stdout",
     "output_type": "stream",
     "text": [
      "+-------------------+------------------+-----------------------------+------------+-------------+--------+---------+\n",
      "|                 dt|AverageTemperature|AverageTemperatureUncertainty|        City|      Country|Latitude|Longitude|\n",
      "+-------------------+------------------+-----------------------------+------------+-------------+--------+---------+\n",
      "|1745-04-01 00:00:00|             8.209|                        1.227| jersey city|United States|  40.99N|   74.56W|\n",
      "|1745-04-01 00:00:00| 7.167000000000001|                        1.069|   new haven|United States|  40.99N|   72.43W|\n",
      "|1750-07-01 00:00:00|             22.69|                         1.28|     buffalo|United States|  42.59N|   78.55W|\n",
      "|1750-07-01 00:00:00|            24.161|           1.8330000000000002|     madison|United States|  42.59N|   89.45W|\n",
      "|1750-07-01 00:00:00|            27.141|                        1.328|newport news|United States|  37.78N|   77.29W|\n",
      "+-------------------+------------------+-----------------------------+------------+-------------+--------+---------+"
     ]
    }
   ],
   "source": [
    "temperature_df.limit(5).show()"
   ]
  },
  {
   "cell_type": "code",
   "execution_count": 49,
   "metadata": {
    "editable": true,
    "execution": {
     "iopub.execute_input": "2022-11-21T02:32:15.421218Z",
     "iopub.status.busy": "2022-11-21T02:32:15.420536Z",
     "iopub.status.idle": "2022-11-21T02:32:15.815535Z",
     "shell.execute_reply": "2022-11-21T02:32:15.813994Z",
     "shell.execute_reply.started": "2022-11-21T02:32:15.421172Z"
    }
   },
   "outputs": [
    {
     "data": {
      "application/vnd.jupyter.widget-view+json": {
       "model_id": "34471090d7f34f648d50b4f8c795f51e",
       "version_major": 2,
       "version_minor": 0
      },
      "text/plain": [
       "VBox()"
      ]
     },
     "metadata": {},
     "output_type": "display_data"
    },
    {
     "data": {
      "application/vnd.jupyter.widget-view+json": {
       "model_id": "",
       "version_major": 2,
       "version_minor": 0
      },
      "text/plain": [
       "FloatProgress(value=0.0, bar_style='info', description='Progress:', layout=Layout(height='25px', width='50%'),…"
      ]
     },
     "metadata": {},
     "output_type": "display_data"
    }
   ],
   "source": [
    "temperature_df.createOrReplaceTempView(\"temperature_staging\")"
   ]
  },
  {
   "cell_type": "markdown",
   "metadata": {
    "editable": true,
    "tags": []
   },
   "source": [
    "#### Airport data cleaning"
   ]
  },
  {
   "cell_type": "code",
   "execution_count": 50,
   "metadata": {
    "editable": true,
    "execution": {
     "iopub.execute_input": "2022-11-21T02:32:15.818596Z",
     "iopub.status.busy": "2022-11-21T02:32:15.817790Z",
     "iopub.status.idle": "2022-11-21T02:32:16.311904Z",
     "shell.execute_reply": "2022-11-21T02:32:16.310666Z",
     "shell.execute_reply.started": "2022-11-21T02:32:15.818550Z"
    },
    "tags": []
   },
   "outputs": [
    {
     "data": {
      "application/vnd.jupyter.widget-view+json": {
       "model_id": "676e2acd4f224446963101d83a891496",
       "version_major": 2,
       "version_minor": 0
      },
      "text/plain": [
       "VBox()"
      ]
     },
     "metadata": {},
     "output_type": "display_data"
    },
    {
     "data": {
      "application/vnd.jupyter.widget-view+json": {
       "model_id": "",
       "version_major": 2,
       "version_minor": 0
      },
      "text/plain": [
       "FloatProgress(value=0.0, bar_style='info', description='Progress:', layout=Layout(height='25px', width='50%'),…"
      ]
     },
     "metadata": {},
     "output_type": "display_data"
    },
    {
     "name": "stdout",
     "output_type": "stream",
     "text": [
      "root\n",
      " |-- ident: string (nullable = true)\n",
      " |-- type: string (nullable = true)\n",
      " |-- name: string (nullable = true)\n",
      " |-- elevation_ft: string (nullable = true)\n",
      " |-- continent: string (nullable = true)\n",
      " |-- iso_country: string (nullable = true)\n",
      " |-- iso_region: string (nullable = true)\n",
      " |-- municipality: string (nullable = true)\n",
      " |-- gps_code: string (nullable = true)\n",
      " |-- iata_code: string (nullable = true)\n",
      " |-- local_code: string (nullable = true)\n",
      " |-- coordinates: string (nullable = true)"
     ]
    }
   ],
   "source": [
    "airport_df.printSchema()"
   ]
  },
  {
   "cell_type": "code",
   "execution_count": 51,
   "metadata": {
    "editable": true,
    "execution": {
     "iopub.execute_input": "2022-11-21T02:32:16.313901Z",
     "iopub.status.busy": "2022-11-21T02:32:16.313301Z",
     "iopub.status.idle": "2022-11-21T02:32:17.333579Z",
     "shell.execute_reply": "2022-11-21T02:32:17.332444Z",
     "shell.execute_reply.started": "2022-11-21T02:32:16.313859Z"
    },
    "tags": []
   },
   "outputs": [
    {
     "data": {
      "application/vnd.jupyter.widget-view+json": {
       "model_id": "ef2c35e165354bd4873ac1abdd69fc1e",
       "version_major": 2,
       "version_minor": 0
      },
      "text/plain": [
       "VBox()"
      ]
     },
     "metadata": {},
     "output_type": "display_data"
    },
    {
     "data": {
      "application/vnd.jupyter.widget-view+json": {
       "model_id": "",
       "version_major": 2,
       "version_minor": 0
      },
      "text/plain": [
       "FloatProgress(value=0.0, bar_style='info', description='Progress:', layout=Layout(height='25px', width='50%'),…"
      ]
     },
     "metadata": {},
     "output_type": "display_data"
    },
    {
     "name": "stdout",
     "output_type": "stream",
     "text": [
      "55075"
     ]
    }
   ],
   "source": [
    "airport_df.count()"
   ]
  },
  {
   "cell_type": "code",
   "execution_count": 52,
   "metadata": {
    "editable": true,
    "execution": {
     "iopub.execute_input": "2022-11-21T02:32:17.335759Z",
     "iopub.status.busy": "2022-11-21T02:32:17.335074Z",
     "iopub.status.idle": "2022-11-21T02:32:19.141930Z",
     "shell.execute_reply": "2022-11-21T02:32:19.139861Z",
     "shell.execute_reply.started": "2022-11-21T02:32:17.335714Z"
    },
    "tags": []
   },
   "outputs": [
    {
     "data": {
      "application/vnd.jupyter.widget-view+json": {
       "model_id": "181a2cb04d40450993cdb2c342a7acab",
       "version_major": 2,
       "version_minor": 0
      },
      "text/plain": [
       "VBox()"
      ]
     },
     "metadata": {},
     "output_type": "display_data"
    },
    {
     "data": {
      "application/vnd.jupyter.widget-view+json": {
       "model_id": "",
       "version_major": 2,
       "version_minor": 0
      },
      "text/plain": [
       "FloatProgress(value=0.0, bar_style='info', description='Progress:', layout=Layout(height='25px', width='50%'),…"
      ]
     },
     "metadata": {},
     "output_type": "display_data"
    },
    {
     "name": "stdout",
     "output_type": "stream",
     "text": [
      "+----------------------------+\n",
      "|count(DISTINCT municipality)|\n",
      "+----------------------------+\n",
      "|                       27133|\n",
      "+----------------------------+"
     ]
    }
   ],
   "source": [
    "from pyspark.sql.functions import countDistinct\n",
    "airport_df.select(countDistinct(\"municipality\")).show()"
   ]
  },
  {
   "cell_type": "code",
   "execution_count": 53,
   "metadata": {
    "editable": true,
    "execution": {
     "iopub.execute_input": "2022-11-21T02:32:19.177546Z",
     "iopub.status.busy": "2022-11-21T02:32:19.145720Z",
     "iopub.status.idle": "2022-11-21T02:32:20.978312Z",
     "shell.execute_reply": "2022-11-21T02:32:20.977082Z",
     "shell.execute_reply.started": "2022-11-21T02:32:19.177482Z"
    },
    "tags": []
   },
   "outputs": [
    {
     "data": {
      "application/vnd.jupyter.widget-view+json": {
       "model_id": "2e0aa3f33ca14ff4beae7d0344f4b73b",
       "version_major": 2,
       "version_minor": 0
      },
      "text/plain": [
       "VBox()"
      ]
     },
     "metadata": {},
     "output_type": "display_data"
    },
    {
     "data": {
      "application/vnd.jupyter.widget-view+json": {
       "model_id": "",
       "version_major": 2,
       "version_minor": 0
      },
      "text/plain": [
       "FloatProgress(value=0.0, bar_style='info', description='Progress:', layout=Layout(height='25px', width='50%'),…"
      ]
     },
     "metadata": {},
     "output_type": "display_data"
    },
    {
     "name": "stdout",
     "output_type": "stream",
     "text": [
      "+----------------------------------------+\n",
      "|count(DISTINCT iso_region, municipality)|\n",
      "+----------------------------------------+\n",
      "|                                   31543|\n",
      "+----------------------------------------+"
     ]
    }
   ],
   "source": [
    "airport_df.select(countDistinct(\"iso_region\",\"municipality\")).show()"
   ]
  },
  {
   "cell_type": "code",
   "execution_count": 54,
   "metadata": {
    "editable": true,
    "execution": {
     "iopub.execute_input": "2022-11-21T02:32:20.980330Z",
     "iopub.status.busy": "2022-11-21T02:32:20.979711Z",
     "iopub.status.idle": "2022-11-21T02:32:21.897712Z",
     "shell.execute_reply": "2022-11-21T02:32:21.896539Z",
     "shell.execute_reply.started": "2022-11-21T02:32:20.980269Z"
    },
    "tags": []
   },
   "outputs": [
    {
     "data": {
      "application/vnd.jupyter.widget-view+json": {
       "model_id": "7077c3de8cc5474595613bbb04dd6903",
       "version_major": 2,
       "version_minor": 0
      },
      "text/plain": [
       "VBox()"
      ]
     },
     "metadata": {},
     "output_type": "display_data"
    },
    {
     "data": {
      "application/vnd.jupyter.widget-view+json": {
       "model_id": "",
       "version_major": 2,
       "version_minor": 0
      },
      "text/plain": [
       "FloatProgress(value=0.0, bar_style='info', description='Progress:', layout=Layout(height='25px', width='50%'),…"
      ]
     },
     "metadata": {},
     "output_type": "display_data"
    },
    {
     "name": "stdout",
     "output_type": "stream",
     "text": [
      "Row(ident='01CN', type='heliport', name=\"Los Angeles County Sheriff's Department Heliport\", elevation_ft='300', continent='NA', iso_country='US', iso_region='US-CA', municipality='Los Angeles', gps_code='01CN', iata_code=None, local_code='01CN', coordinates='-118.15399932861328, 34.03779983520508')"
     ]
    }
   ],
   "source": [
    "x = airport_df.filter(airport_df.iso_region == \"US-CA\")\n",
    "# x.filter(x.municipality ==\"Los Angeles\").count()\n",
    "x.filter(x.municipality ==\"Los Angeles\").head()"
   ]
  },
  {
   "cell_type": "code",
   "execution_count": 55,
   "metadata": {
    "editable": true,
    "execution": {
     "iopub.execute_input": "2022-11-21T02:32:21.979647Z",
     "iopub.status.busy": "2022-11-21T02:32:21.899241Z",
     "iopub.status.idle": "2022-11-21T02:32:23.277021Z",
     "shell.execute_reply": "2022-11-21T02:32:23.199871Z",
     "shell.execute_reply.started": "2022-11-21T02:32:21.979589Z"
    },
    "tags": []
   },
   "outputs": [
    {
     "data": {
      "application/vnd.jupyter.widget-view+json": {
       "model_id": "f5bec198b1114e399041ed682a68ae0b",
       "version_major": 2,
       "version_minor": 0
      },
      "text/plain": [
       "VBox()"
      ]
     },
     "metadata": {},
     "output_type": "display_data"
    },
    {
     "data": {
      "application/vnd.jupyter.widget-view+json": {
       "model_id": "",
       "version_major": 2,
       "version_minor": 0
      },
      "text/plain": [
       "FloatProgress(value=0.0, bar_style='info', description='Progress:', layout=Layout(height='25px', width='50%'),…"
      ]
     },
     "metadata": {},
     "output_type": "display_data"
    }
   ],
   "source": [
    "@udf(StringType())\n",
    "def extractState(x):\n",
    "    state = x.split('-')\n",
    "    return state[1]\n",
    "\n",
    "airport_df = airport_df.withColumn(\"iso_region\", extractState(\"iso_region\"))"
   ]
  },
  {
   "cell_type": "code",
   "execution_count": 56,
   "metadata": {
    "editable": true,
    "execution": {
     "iopub.execute_input": "2022-11-21T02:32:23.278693Z",
     "iopub.status.busy": "2022-11-21T02:32:23.278324Z",
     "iopub.status.idle": "2022-11-21T02:32:24.002229Z",
     "shell.execute_reply": "2022-11-21T02:32:24.001149Z",
     "shell.execute_reply.started": "2022-11-21T02:32:23.278653Z"
    },
    "tags": []
   },
   "outputs": [
    {
     "data": {
      "application/vnd.jupyter.widget-view+json": {
       "model_id": "b6234316cb5f45f5b0c6cf4bea1507dc",
       "version_major": 2,
       "version_minor": 0
      },
      "text/plain": [
       "VBox()"
      ]
     },
     "metadata": {},
     "output_type": "display_data"
    },
    {
     "data": {
      "application/vnd.jupyter.widget-view+json": {
       "model_id": "",
       "version_major": 2,
       "version_minor": 0
      },
      "text/plain": [
       "FloatProgress(value=0.0, bar_style='info', description='Progress:', layout=Layout(height='25px', width='50%'),…"
      ]
     },
     "metadata": {},
     "output_type": "display_data"
    }
   ],
   "source": [
    "airport_df = airport_df.withColumn(\"municipality\", lowerString(\"municipality\"))"
   ]
  },
  {
   "cell_type": "code",
   "execution_count": 57,
   "metadata": {
    "editable": true,
    "execution": {
     "iopub.execute_input": "2022-11-21T02:32:24.003728Z",
     "iopub.status.busy": "2022-11-21T02:32:24.003386Z",
     "iopub.status.idle": "2022-11-21T02:32:25.001090Z",
     "shell.execute_reply": "2022-11-21T02:32:24.998568Z",
     "shell.execute_reply.started": "2022-11-21T02:32:24.003688Z"
    },
    "tags": []
   },
   "outputs": [
    {
     "data": {
      "application/vnd.jupyter.widget-view+json": {
       "model_id": "a9d07f5d3eb248748dda1a0823b7e388",
       "version_major": 2,
       "version_minor": 0
      },
      "text/plain": [
       "VBox()"
      ]
     },
     "metadata": {},
     "output_type": "display_data"
    },
    {
     "data": {
      "application/vnd.jupyter.widget-view+json": {
       "model_id": "",
       "version_major": 2,
       "version_minor": 0
      },
      "text/plain": [
       "FloatProgress(value=0.0, bar_style='info', description='Progress:', layout=Layout(height='25px', width='50%'),…"
      ]
     },
     "metadata": {},
     "output_type": "display_data"
    },
    {
     "name": "stdout",
     "output_type": "stream",
     "text": [
      "+-----+-------------+--------------------+------------+---------+-----------+----------+------------+--------+---------+----------+--------------------+\n",
      "|ident|         type|                name|elevation_ft|continent|iso_country|iso_region|municipality|gps_code|iata_code|local_code|         coordinates|\n",
      "+-----+-------------+--------------------+------------+---------+-----------+----------+------------+--------+---------+----------+--------------------+\n",
      "|  00A|     heliport|   Total Rf Heliport|          11|       NA|         US|        PA|    bensalem|     00A|     null|       00A|-74.9336013793945...|\n",
      "| 00AA|small_airport|Aero B Ranch Airport|        3435|       NA|         US|        KS|       leoti|    00AA|     null|      00AA|-101.473911, 38.7...|\n",
      "| 00AK|small_airport|        Lowell Field|         450|       NA|         US|        AK|anchor point|    00AK|     null|      00AK|-151.695999146, 5...|\n",
      "| 00AL|small_airport|        Epps Airpark|         820|       NA|         US|        AL|     harvest|    00AL|     null|      00AL|-86.7703018188476...|\n",
      "| 00AR|       closed|Newport Hospital ...|         237|       NA|         US|        AR|     newport|    null|     null|      null| -91.254898, 35.6087|\n",
      "+-----+-------------+--------------------+------------+---------+-----------+----------+------------+--------+---------+----------+--------------------+"
     ]
    }
   ],
   "source": [
    "airport_df.limit(5).show()"
   ]
  },
  {
   "cell_type": "code",
   "execution_count": 58,
   "metadata": {
    "editable": true,
    "execution": {
     "iopub.execute_input": "2022-11-21T02:32:25.002837Z",
     "iopub.status.busy": "2022-11-21T02:32:25.002466Z",
     "iopub.status.idle": "2022-11-21T02:32:27.279576Z",
     "shell.execute_reply": "2022-11-21T02:32:27.278472Z",
     "shell.execute_reply.started": "2022-11-21T02:32:25.002787Z"
    },
    "tags": []
   },
   "outputs": [
    {
     "data": {
      "application/vnd.jupyter.widget-view+json": {
       "model_id": "72327335ad8a4f60a7e29e8b3097a838",
       "version_major": 2,
       "version_minor": 0
      },
      "text/plain": [
       "VBox()"
      ]
     },
     "metadata": {},
     "output_type": "display_data"
    },
    {
     "data": {
      "application/vnd.jupyter.widget-view+json": {
       "model_id": "",
       "version_major": 2,
       "version_minor": 0
      },
      "text/plain": [
       "FloatProgress(value=0.0, bar_style='info', description='Progress:', layout=Layout(height='25px', width='50%'),…"
      ]
     },
     "metadata": {},
     "output_type": "display_data"
    },
    {
     "name": "stdout",
     "output_type": "stream",
     "text": [
      "Row(nulls_ident=0, nulls_type=0, nulls_name=0, nulls_elevation_ft=7006, nulls_continent=0, nulls_iso_country=0, nulls_iso_region=0, nulls_municipality=5676, nulls_gps_code=14045, nulls_iata_code=45886, nulls_local_code=26389, nulls_coordinates=0)"
     ]
    }
   ],
   "source": [
    "airport_df.select([count(when(col(colname).isNull(),1)).alias('nulls_'+colname) for colname in airport_df.columns]).head()"
   ]
  },
  {
   "cell_type": "code",
   "execution_count": 59,
   "metadata": {
    "editable": true,
    "execution": {
     "iopub.execute_input": "2022-11-21T02:32:27.281514Z",
     "iopub.status.busy": "2022-11-21T02:32:27.280935Z",
     "iopub.status.idle": "2022-11-21T02:32:30.777942Z",
     "shell.execute_reply": "2022-11-21T02:32:30.712380Z",
     "shell.execute_reply.started": "2022-11-21T02:32:27.281472Z"
    },
    "tags": []
   },
   "outputs": [
    {
     "data": {
      "application/vnd.jupyter.widget-view+json": {
       "model_id": "0fee900fd4244e1e82efa5edbffd6577",
       "version_major": 2,
       "version_minor": 0
      },
      "text/plain": [
       "VBox()"
      ]
     },
     "metadata": {},
     "output_type": "display_data"
    },
    {
     "data": {
      "application/vnd.jupyter.widget-view+json": {
       "model_id": "",
       "version_major": 2,
       "version_minor": 0
      },
      "text/plain": [
       "FloatProgress(value=0.0, bar_style='info', description='Progress:', layout=Layout(height='25px', width='50%'),…"
      ]
     },
     "metadata": {},
     "output_type": "display_data"
    },
    {
     "name": "stdout",
     "output_type": "stream",
     "text": [
      "31462"
     ]
    }
   ],
   "source": [
    "airport_df= airport_df.na.drop(subset=[\"municipality\"])\n",
    "airport_df= airport_df.drop_duplicates([\"iso_region\",\"municipality\"])\n",
    "airport_df.count()"
   ]
  },
  {
   "cell_type": "code",
   "execution_count": 60,
   "metadata": {
    "editable": true,
    "execution": {
     "iopub.execute_input": "2022-11-21T02:32:30.780501Z",
     "iopub.status.busy": "2022-11-21T02:32:30.779591Z",
     "iopub.status.idle": "2022-11-21T02:32:33.687891Z",
     "shell.execute_reply": "2022-11-21T02:32:33.686759Z",
     "shell.execute_reply.started": "2022-11-21T02:32:30.780456Z"
    },
    "tags": []
   },
   "outputs": [
    {
     "data": {
      "application/vnd.jupyter.widget-view+json": {
       "model_id": "fd00a45ef44c48f5b1340a7b820069e5",
       "version_major": 2,
       "version_minor": 0
      },
      "text/plain": [
       "VBox()"
      ]
     },
     "metadata": {},
     "output_type": "display_data"
    },
    {
     "data": {
      "application/vnd.jupyter.widget-view+json": {
       "model_id": "",
       "version_major": 2,
       "version_minor": 0
      },
      "text/plain": [
       "FloatProgress(value=0.0, bar_style='info', description='Progress:', layout=Layout(height='25px', width='50%'),…"
      ]
     },
     "metadata": {},
     "output_type": "display_data"
    },
    {
     "name": "stdout",
     "output_type": "stream",
     "text": [
      "11940"
     ]
    }
   ],
   "source": [
    "airport_df = airport_df.filter(airport_df.iso_country == \"US\")\n",
    "airport_df.count()"
   ]
  },
  {
   "cell_type": "code",
   "execution_count": 61,
   "metadata": {
    "editable": true,
    "execution": {
     "iopub.execute_input": "2022-11-21T02:32:33.693725Z",
     "iopub.status.busy": "2022-11-21T02:32:33.689696Z",
     "iopub.status.idle": "2022-11-21T02:32:34.487720Z",
     "shell.execute_reply": "2022-11-21T02:32:34.486760Z",
     "shell.execute_reply.started": "2022-11-21T02:32:33.693679Z"
    },
    "tags": []
   },
   "outputs": [
    {
     "data": {
      "application/vnd.jupyter.widget-view+json": {
       "model_id": "7e41a08dff3f4db8a52fcf50c8befc8a",
       "version_major": 2,
       "version_minor": 0
      },
      "text/plain": [
       "VBox()"
      ]
     },
     "metadata": {},
     "output_type": "display_data"
    },
    {
     "data": {
      "application/vnd.jupyter.widget-view+json": {
       "model_id": "",
       "version_major": 2,
       "version_minor": 0
      },
      "text/plain": [
       "FloatProgress(value=0.0, bar_style='info', description='Progress:', layout=Layout(height='25px', width='50%'),…"
      ]
     },
     "metadata": {},
     "output_type": "display_data"
    }
   ],
   "source": [
    "airport_df.createOrReplaceTempView(\"airport_staging\")"
   ]
  },
  {
   "cell_type": "markdown",
   "metadata": {
    "editable": true
   },
   "source": [
    "### Step 3: Define the Data Model\n",
    "#### 3.1 Conceptual Data Model\n",
    "Map out the conceptual data model and explain why you chose that model\n",
    "\n",
    "#### 3.2 Mapping Out Data Pipelines\n",
    "List the steps necessary to pipeline the data into the chosen data model"
   ]
  },
  {
   "cell_type": "markdown",
   "metadata": {
    "editable": true
   },
   "source": [
    "### Step 4: Run Pipelines to Model the Data \n",
    "#### 4.1 Create the data model\n",
    "Build the data pipelines to create the data model."
   ]
  },
  {
   "cell_type": "code",
   "execution_count": 62,
   "metadata": {
    "editable": true,
    "execution": {
     "iopub.execute_input": "2022-11-21T02:32:34.489902Z",
     "iopub.status.busy": "2022-11-21T02:32:34.489278Z",
     "iopub.status.idle": "2022-11-21T02:32:42.940894Z",
     "shell.execute_reply": "2022-11-21T02:32:42.939785Z",
     "shell.execute_reply.started": "2022-11-21T02:32:34.489859Z"
    },
    "tags": []
   },
   "outputs": [
    {
     "data": {
      "application/vnd.jupyter.widget-view+json": {
       "model_id": "dcd125dd8e45480d8337ea7f5af1b058",
       "version_major": 2,
       "version_minor": 0
      },
      "text/plain": [
       "VBox()"
      ]
     },
     "metadata": {},
     "output_type": "display_data"
    },
    {
     "data": {
      "application/vnd.jupyter.widget-view+json": {
       "model_id": "",
       "version_major": 2,
       "version_minor": 0
      },
      "text/plain": [
       "FloatProgress(value=0.0, bar_style='info', description='Progress:', layout=Layout(height='25px', width='50%'),…"
      ]
     },
     "metadata": {},
     "output_type": "display_data"
    },
    {
     "name": "stdout",
     "output_type": "stream",
     "text": [
      "+------------+----------+----------+----------+---------------+-----------------+----------------+------------------+------------+----------------------+-----------+\n",
      "|        city|     state|state_code|median_age|male_population|female_population|total_population|number_of_veterans|foreign_born|average_household_size|    city_id|\n",
      "+------------+----------+----------+----------+---------------+-----------------+----------------+------------------+------------+----------------------+-----------+\n",
      "|  sacramento|California|        CA|      33.7|         237724|           252991|          490715|             19698|      112579|                  2.73|          0|\n",
      "|     killeen|     Texas|        TX|      29.2|          69442|            71367|          140809|             24281|       15769|                  2.72|          1|\n",
      "|    avondale|   Arizona|        AZ|      29.1|          38712|            41971|           80683|              4815|        8355|                  3.18| 8589934592|\n",
      "|   brentwood|  New York|        NY|      34.2|          31395|            32397|           63792|              1492|       27058|                  4.98| 8589934593|\n",
      "|redwood city|California|        CA|      37.1|          42676|            42624|           85300|              2430|       27652|                  2.64|17179869184|\n",
      "+------------+----------+----------+----------+---------------+-----------------+----------------+------------------+------------+----------------------+-----------+\n",
      "only showing top 5 rows"
     ]
    }
   ],
   "source": [
    "city_table = spark.sql(\"\"\"\n",
    "                            SELECT  DISTINCT d.City AS city,\n",
    "                                    d.State AS state,\n",
    "                                    d.State_Code AS state_code,\n",
    "                                    d.Median_Age AS median_age,\n",
    "                                    d.Male_Population AS male_population,\n",
    "                                    d.Female_Population AS female_population, \n",
    "                                    d.Total_Population AS total_population,\n",
    "                                    d.Number_of_Veterans AS number_of_veterans,\n",
    "                                    d.Foreign_born AS foreign_born,\n",
    "                                    d.Average_Household_Size AS average_household_size\n",
    "                            FROM demographics d\n",
    "                            \n",
    "                            \n",
    "\"\"\")\n",
    "\n",
    "city_table = city_table.withColumn(\"city_id\", monotonically_increasing_id())\n",
    "city_table.createOrReplaceTempView('city')\n",
    "city_table.show(5)"
   ]
  },
  {
   "cell_type": "code",
   "execution_count": 63,
   "metadata": {
    "editable": true,
    "execution": {
     "iopub.execute_input": "2022-11-21T02:32:42.944294Z",
     "iopub.status.busy": "2022-11-21T02:32:42.943115Z",
     "iopub.status.idle": "2022-11-21T02:32:51.282230Z",
     "shell.execute_reply": "2022-11-21T02:32:51.281215Z",
     "shell.execute_reply.started": "2022-11-21T02:32:42.944248Z"
    },
    "tags": []
   },
   "outputs": [
    {
     "data": {
      "application/vnd.jupyter.widget-view+json": {
       "model_id": "8482b302392349169391f7f5ab6e50ff",
       "version_major": 2,
       "version_minor": 0
      },
      "text/plain": [
       "VBox()"
      ]
     },
     "metadata": {},
     "output_type": "display_data"
    },
    {
     "data": {
      "application/vnd.jupyter.widget-view+json": {
       "model_id": "",
       "version_major": 2,
       "version_minor": 0
      },
      "text/plain": [
       "FloatProgress(value=0.0, bar_style='info', description='Progress:', layout=Layout(height='25px', width='50%'),…"
      ]
     },
     "metadata": {},
     "output_type": "display_data"
    },
    {
     "name": "stdout",
     "output_type": "stream",
     "text": [
      "+-------------+-------------+--------------------+----------+\n",
      "|city_races_id|      city_id|                race|race_count|\n",
      "+-------------+-------------+--------------------+----------+\n",
      "|            0|1709396983808|               White|     63666|\n",
      "|            1| 412316860416|Black or African-...|      1560|\n",
      "|            2|  25769803777|               Asian|    173854|\n",
      "|            3|1279900254208|               White|     91201|\n",
      "|            4| 206158430208|               Asian|     17854|\n",
      "+-------------+-------------+--------------------+----------+\n",
      "only showing top 5 rows"
     ]
    }
   ],
   "source": [
    "city_races_table = spark.sql(\"\"\"\n",
    "                            SELECT  monotonically_increasing_id() AS city_races_id,\n",
    "                                    c.city_id AS city_id,\n",
    "                                    d.Race AS race,\n",
    "                                    d.Count AS race_count\n",
    "                            FROM demographics d\n",
    "                            JOIN city c\n",
    "                            ON d.City = c.city\n",
    "                            AND d.State = c.state\n",
    "                            AND d.State_Code = c.state_code\n",
    "                            \n",
    "                            \n",
    "\"\"\")\n",
    "city_races_table.createOrReplaceTempView('city_races')\n",
    "\n",
    "city_races_table.show(5)"
   ]
  },
  {
   "cell_type": "code",
   "execution_count": 64,
   "metadata": {
    "editable": true,
    "execution": {
     "iopub.execute_input": "2022-11-21T02:32:51.284446Z",
     "iopub.status.busy": "2022-11-21T02:32:51.283727Z",
     "iopub.status.idle": "2022-11-21T02:33:00.091622Z",
     "shell.execute_reply": "2022-11-21T02:33:00.090454Z",
     "shell.execute_reply.started": "2022-11-21T02:32:51.284404Z"
    },
    "tags": []
   },
   "outputs": [
    {
     "data": {
      "application/vnd.jupyter.widget-view+json": {
       "model_id": "1805e909f2f74df090d60fea2a39bec0",
       "version_major": 2,
       "version_minor": 0
      },
      "text/plain": [
       "VBox()"
      ]
     },
     "metadata": {},
     "output_type": "display_data"
    },
    {
     "data": {
      "application/vnd.jupyter.widget-view+json": {
       "model_id": "",
       "version_major": 2,
       "version_minor": 0
      },
      "text/plain": [
       "FloatProgress(value=0.0, bar_style='info', description='Progress:', layout=Layout(height='25px', width='50%'),…"
      ]
     },
     "metadata": {},
     "output_type": "display_data"
    },
    {
     "name": "stdout",
     "output_type": "stream",
     "text": [
      "+----------+--------------------+--------+-------------+\n",
      "|airport_id|                name|    type|      city_id|\n",
      "+----------+--------------------+--------+-------------+\n",
      "|      7LL1|Vista Medical Cen...|heliport|1116691496962|\n",
      "|      04TE|Veterans Affairs ...|heliport|  25769803776|\n",
      "|      31OR|   Heli-Jet Heliport|heliport| 249108103169|\n",
      "|       0T7|   Kittyhawk Airport|  closed|1417339207680|\n",
      "|      PN20|   Car Tech Heliport|heliport|1623497637892|\n",
      "+----------+--------------------+--------+-------------+\n",
      "only showing top 5 rows"
     ]
    }
   ],
   "source": [
    "airport_table = spark.sql(\"\"\"\n",
    "                            SELECT  DISTINCT a.ident AS airport_id,\n",
    "                                    a.name AS name,\n",
    "                                    a.type AS type,\n",
    "                                    c.city_id AS city_id\n",
    "                            FROM airport_staging a\n",
    "                            JOIN city c\n",
    "                            ON a.municipality = c.city\n",
    "                            AND a.iso_region = c.state_code\n",
    "                            \n",
    "\"\"\")\n",
    "airport_table.createOrReplaceTempView('airport')\n",
    "\n",
    "airport_table.show(5)"
   ]
  },
  {
   "cell_type": "code",
   "execution_count": 65,
   "metadata": {
    "editable": true,
    "execution": {
     "iopub.execute_input": "2022-11-21T02:33:00.094043Z",
     "iopub.status.busy": "2022-11-21T02:33:00.093185Z",
     "iopub.status.idle": "2022-11-21T02:37:25.548671Z",
     "shell.execute_reply": "2022-11-21T02:37:25.547675Z",
     "shell.execute_reply.started": "2022-11-21T02:33:00.093994Z"
    },
    "tags": []
   },
   "outputs": [
    {
     "data": {
      "application/vnd.jupyter.widget-view+json": {
       "model_id": "e46254b515c645b8a00ce3301b763205",
       "version_major": 2,
       "version_minor": 0
      },
      "text/plain": [
       "VBox()"
      ]
     },
     "metadata": {},
     "output_type": "display_data"
    },
    {
     "data": {
      "application/vnd.jupyter.widget-view+json": {
       "model_id": "",
       "version_major": 2,
       "version_minor": 0
      },
      "text/plain": [
       "FloatProgress(value=0.0, bar_style='info', description='Progress:', layout=Layout(height='25px', width='50%'),…"
      ]
     },
     "metadata": {},
     "output_type": "display_data"
    },
    {
     "name": "stdout",
     "output_type": "stream",
     "text": [
      "+------------+----------------+-----------------+--------------------+---------------+-------------------+-----------+--------+-------------------+---+----------+----------+----------+---------------+------+-------+-------------+---------+--------------+\n",
      "|immigrant_id|immigration_year|immigration_month|         origin_city|arrival_city_id|       arrival_date|travel_mode| address|     departial_date|age|visa_class|occupation|birth_year|addmission_date|gender|airline|flight_number|visa_type|immigration_id|\n",
      "+------------+----------------+-----------------+--------------------+---------------+-------------------+-----------+--------+-------------------+---+----------+----------+----------+---------------+------+-------+-------------+---------+--------------+\n",
      "|     5656337|            2016|               12|      UNITED KINGDOM|  1357209665540|2016-12-25 00:00:00|        Air|  NEVADA|2017-01-01 00:00:00| 52|  Pleasure|      null|      1964|       03242017|     F|     VS|           43|       WT|             0|\n",
      "|     5656684|            2016|               12|             NIGERIA|   730144440320|2016-12-25 00:00:00|        Air|   TEXAS|2017-01-22 00:00:00|  2|  Pleasure|      null|      2014|       06242017|     M|     KL|          641|       B2|             1|\n",
      "|     5657536|            2016|               12|MEXICO Air Sea, a...|   163208757248|2016-12-25 00:00:00|        Air|COLORADO|2017-01-08 00:00:00| 43|  Pleasure|      null|      1973|       06252017|     M|     AM|          658|       B2|             2|\n",
      "|     5657910|            2016|               12|          CHINA, PRC|  1185410973696|2016-12-25 00:00:00|        Air|NEW YORK|2017-03-26 00:00:00| 23|   Student|      null|      1993|            D/S|     M|     CA|          985|       F1|             3|\n",
      "|     5658607|            2016|               12|                null|  1597727834114|2016-12-25 00:00:00|        Air| GEORGIA|2017-01-05 00:00:00| 47|  Pleasure|      null|      1969|       03242017|     M|     DL|           75|       WT|             4|\n",
      "+------------+----------------+-----------------+--------------------+---------------+-------------------+-----------+--------+-------------------+---+----------+----------+----------+---------------+------+-------+-------------+---------+--------------+\n",
      "only showing top 5 rows"
     ]
    }
   ],
   "source": [
    "immigration_table = spark.sql(\"\"\"\n",
    "                            SELECT  DISTINCT i.cicid AS immigrant_id,\n",
    "                                    i.i94yr AS immigration_year,\n",
    "                                    i.i94mon AS immigration_month,\n",
    "                                    i.i94cit AS origin_city,\n",
    "                                    c.city_id AS arrival_city_id,\n",
    "                                    i.arrdate AS arrival_date,\n",
    "                                    i.i94mode AS travel_mode,\n",
    "                                    i.i94addr AS address,\n",
    "                                    i.depdate AS departial_date,\n",
    "                                    i.i94bir AS age,\n",
    "                                    i.i94visa AS visa_class,\n",
    "                                    i.occup AS occupation,\n",
    "                                    i.biryear AS birth_year,\n",
    "                                    i.dtaddto AS addmission_date,\n",
    "                                    i.gender AS gender,\n",
    "                                    i.airline AS airline,\n",
    "                                    i.fltno AS flight_number,\n",
    "                                    i.visatype AS visa_type \n",
    "                            FROM immigration_staging i\n",
    "                            JOIN city c\n",
    "                            ON i.airportcountry = c.city\n",
    "                            AND i.airportstate = c.state_code\n",
    "                            \n",
    "\"\"\")\n",
    "immigration_table = immigration_table.withColumn(\"immigration_id\", monotonically_increasing_id())\n",
    "\n",
    "immigration_table.createOrReplaceTempView('immigration')\n",
    "\n",
    "immigration_table.show(5)"
   ]
  },
  {
   "cell_type": "code",
   "execution_count": 67,
   "metadata": {
    "editable": true,
    "execution": {
     "iopub.execute_input": "2022-11-21T02:37:25.807222Z",
     "iopub.status.busy": "2022-11-21T02:37:25.804328Z",
     "iopub.status.idle": "2022-11-21T02:37:50.003583Z",
     "shell.execute_reply": "2022-11-21T02:37:50.000499Z",
     "shell.execute_reply.started": "2022-11-21T02:37:25.807176Z"
    },
    "tags": []
   },
   "outputs": [
    {
     "data": {
      "application/vnd.jupyter.widget-view+json": {
       "model_id": "f805217dc37d400c9baac3288fe66c33",
       "version_major": 2,
       "version_minor": 0
      },
      "text/plain": [
       "VBox()"
      ]
     },
     "metadata": {},
     "output_type": "display_data"
    },
    {
     "data": {
      "application/vnd.jupyter.widget-view+json": {
       "model_id": "",
       "version_major": 2,
       "version_minor": 0
      },
      "text/plain": [
       "FloatProgress(value=0.0, bar_style='info', description='Progress:', layout=Layout(height='25px', width='50%'),…"
      ]
     },
     "metadata": {},
     "output_type": "display_data"
    },
    {
     "name": "stdout",
     "output_type": "stream",
     "text": [
      "+-------------------+-------------+-------------------+-------------------------------+--------------+\n",
      "|   temperature_date|      city_id|average_temperature|average_temperature_uncertainty|temperature_id|\n",
      "+-------------------+-------------+-------------------+-------------------------------+--------------+\n",
      "|1910-06-01 00:00:00| 627065225216| 26.316999999999997|                          0.355|             0|\n",
      "|1955-02-01 00:00:00| 704374636548|              8.728|                          0.243|             1|\n",
      "|1898-07-01 00:00:00|1125281431555|             19.823|                          0.479|             2|\n",
      "|2010-04-01 00:00:00| 790273982464|             16.701|                           0.25|             3|\n",
      "|1854-01-01 00:00:00|1099511627778| 1.5419999999999998|                          2.147|             4|\n",
      "+-------------------+-------------+-------------------+-------------------------------+--------------+\n",
      "only showing top 5 rows"
     ]
    }
   ],
   "source": [
    "temperature_table = spark.sql(\"\"\"\n",
    "                            SELECT  DISTINCT t.dt AS temperature_date ,\n",
    "                                    c.city_id AS city_id ,\n",
    "                                    t.AverageTemperature AS average_temperature,\n",
    "                                    t.AverageTemperatureUncertainty AS average_temperature_uncertainty \n",
    "                            \n",
    "                            FROM temperature_staging t\n",
    "                            JOIN city c\n",
    "                            ON t.City = c.city                            \n",
    "\"\"\")\n",
    "temperature_table = temperature_table.withColumn(\"temperature_id\", monotonically_increasing_id())\n",
    "\n",
    "temperature_table.createOrReplaceTempView('temperature')\n",
    "\n",
    "temperature_table.show(5)"
   ]
  },
  {
   "cell_type": "code",
   "execution_count": 66,
   "metadata": {
    "editable": true,
    "execution": {
     "iopub.execute_input": "2022-11-21T02:37:25.551233Z",
     "iopub.status.busy": "2022-11-21T02:37:25.550468Z",
     "iopub.status.idle": "2022-11-21T02:37:25.802712Z",
     "shell.execute_reply": "2022-11-21T02:37:25.802017Z",
     "shell.execute_reply.started": "2022-11-21T02:37:25.551189Z"
    },
    "tags": []
   },
   "outputs": [
    {
     "data": {
      "application/vnd.jupyter.widget-view+json": {
       "model_id": "8db15cc5e69c47549c5d1bbdd71e377f",
       "version_major": 2,
       "version_minor": 0
      },
      "text/plain": [
       "VBox()"
      ]
     },
     "metadata": {},
     "output_type": "display_data"
    },
    {
     "data": {
      "application/vnd.jupyter.widget-view+json": {
       "model_id": "",
       "version_major": 2,
       "version_minor": 0
      },
      "text/plain": [
       "FloatProgress(value=0.0, bar_style='info', description='Progress:', layout=Layout(height='25px', width='50%'),…"
      ]
     },
     "metadata": {},
     "output_type": "display_data"
    }
   ],
   "source": [
    "# write to s3 \n",
    "output_data = 's3a://immigration-analytics/'\n"
   ]
  },
  {
   "cell_type": "code",
   "execution_count": 68,
   "metadata": {
    "editable": true,
    "execution": {
     "iopub.execute_input": "2022-11-21T02:37:50.031250Z",
     "iopub.status.busy": "2022-11-21T02:37:50.030689Z",
     "iopub.status.idle": "2022-11-21T02:39:47.298256Z",
     "shell.execute_reply": "2022-11-21T02:39:47.297398Z",
     "shell.execute_reply.started": "2022-11-21T02:37:50.031204Z"
    },
    "tags": []
   },
   "outputs": [
    {
     "data": {
      "application/vnd.jupyter.widget-view+json": {
       "model_id": "fa612488638b40a1993cbbe0990130d9",
       "version_major": 2,
       "version_minor": 0
      },
      "text/plain": [
       "VBox()"
      ]
     },
     "metadata": {},
     "output_type": "display_data"
    },
    {
     "data": {
      "application/vnd.jupyter.widget-view+json": {
       "model_id": "",
       "version_major": 2,
       "version_minor": 0
      },
      "text/plain": [
       "FloatProgress(value=0.0, bar_style='info', description='Progress:', layout=Layout(height='25px', width='50%'),…"
      ]
     },
     "metadata": {},
     "output_type": "display_data"
    }
   ],
   "source": [
    "city_table.write.mode(\"overwrite\").parquet(output_data + \"city.parquet\")"
   ]
  },
  {
   "cell_type": "code",
   "execution_count": 69,
   "metadata": {
    "editable": true,
    "execution": {
     "iopub.execute_input": "2022-11-21T02:39:47.301457Z",
     "iopub.status.busy": "2022-11-21T02:39:47.300608Z",
     "iopub.status.idle": "2022-11-21T02:42:02.607151Z",
     "shell.execute_reply": "2022-11-21T02:42:02.606298Z",
     "shell.execute_reply.started": "2022-11-21T02:39:47.301418Z"
    },
    "tags": []
   },
   "outputs": [
    {
     "data": {
      "application/vnd.jupyter.widget-view+json": {
       "model_id": "49dde3bed4554e54b552fbfb29ebd958",
       "version_major": 2,
       "version_minor": 0
      },
      "text/plain": [
       "VBox()"
      ]
     },
     "metadata": {},
     "output_type": "display_data"
    },
    {
     "data": {
      "application/vnd.jupyter.widget-view+json": {
       "model_id": "",
       "version_major": 2,
       "version_minor": 0
      },
      "text/plain": [
       "FloatProgress(value=0.0, bar_style='info', description='Progress:', layout=Layout(height='25px', width='50%'),…"
      ]
     },
     "metadata": {},
     "output_type": "display_data"
    }
   ],
   "source": [
    "city_races_table.write.mode(\"overwrite\").parquet(output_data + \"city_races.parquet\")"
   ]
  },
  {
   "cell_type": "code",
   "execution_count": 70,
   "metadata": {
    "execution": {
     "iopub.execute_input": "2022-11-21T02:42:02.609128Z",
     "iopub.status.busy": "2022-11-21T02:42:02.608406Z",
     "iopub.status.idle": "2022-11-21T02:44:18.221465Z",
     "shell.execute_reply": "2022-11-21T02:44:18.220808Z",
     "shell.execute_reply.started": "2022-11-21T02:42:02.609086Z"
    }
   },
   "outputs": [
    {
     "data": {
      "application/vnd.jupyter.widget-view+json": {
       "model_id": "6c69b8e0e35247a992ccd906e4bed35f",
       "version_major": 2,
       "version_minor": 0
      },
      "text/plain": [
       "VBox()"
      ]
     },
     "metadata": {},
     "output_type": "display_data"
    },
    {
     "data": {
      "application/vnd.jupyter.widget-view+json": {
       "model_id": "",
       "version_major": 2,
       "version_minor": 0
      },
      "text/plain": [
       "FloatProgress(value=0.0, bar_style='info', description='Progress:', layout=Layout(height='25px', width='50%'),…"
      ]
     },
     "metadata": {},
     "output_type": "display_data"
    }
   ],
   "source": [
    "airport_table.write.mode(\"overwrite\").parquet(output_data + \"airport.parquet\")"
   ]
  },
  {
   "cell_type": "code",
   "execution_count": 71,
   "metadata": {
    "execution": {
     "iopub.execute_input": "2022-11-21T02:44:18.223348Z",
     "iopub.status.busy": "2022-11-21T02:44:18.222774Z",
     "iopub.status.idle": "2022-11-21T02:55:30.025692Z",
     "shell.execute_reply": "2022-11-21T02:55:30.024823Z",
     "shell.execute_reply.started": "2022-11-21T02:44:18.223306Z"
    },
    "tags": []
   },
   "outputs": [
    {
     "data": {
      "application/vnd.jupyter.widget-view+json": {
       "model_id": "cd458643d2f8471384ca2c82216f5270",
       "version_major": 2,
       "version_minor": 0
      },
      "text/plain": [
       "VBox()"
      ]
     },
     "metadata": {},
     "output_type": "display_data"
    },
    {
     "data": {
      "application/vnd.jupyter.widget-view+json": {
       "model_id": "",
       "version_major": 2,
       "version_minor": 0
      },
      "text/plain": [
       "FloatProgress(value=0.0, bar_style='info', description='Progress:', layout=Layout(height='25px', width='50%'),…"
      ]
     },
     "metadata": {},
     "output_type": "display_data"
    }
   ],
   "source": [
    "immigration_table.write.mode(\"overwrite\").parquet(output_data + \"immigration.parquet\")"
   ]
  },
  {
   "cell_type": "code",
   "execution_count": 72,
   "metadata": {
    "execution": {
     "iopub.execute_input": "2022-11-21T02:55:30.030405Z",
     "iopub.status.busy": "2022-11-21T02:55:30.030090Z",
     "iopub.status.idle": "2022-11-21T02:58:13.713515Z",
     "shell.execute_reply": "2022-11-21T02:58:13.712617Z",
     "shell.execute_reply.started": "2022-11-21T02:55:30.030374Z"
    }
   },
   "outputs": [
    {
     "data": {
      "application/vnd.jupyter.widget-view+json": {
       "model_id": "f845ae8a19984b968ef5e0af832c6668",
       "version_major": 2,
       "version_minor": 0
      },
      "text/plain": [
       "VBox()"
      ]
     },
     "metadata": {},
     "output_type": "display_data"
    },
    {
     "data": {
      "application/vnd.jupyter.widget-view+json": {
       "model_id": "",
       "version_major": 2,
       "version_minor": 0
      },
      "text/plain": [
       "FloatProgress(value=0.0, bar_style='info', description='Progress:', layout=Layout(height='25px', width='50%'),…"
      ]
     },
     "metadata": {},
     "output_type": "display_data"
    }
   ],
   "source": [
    "temperature_table.write.mode(\"overwrite\").parquet(output_data + \"temperature.parquet\")"
   ]
  },
  {
   "cell_type": "markdown",
   "metadata": {
    "editable": true
   },
   "source": [
    "#### 4.2 Data Quality Checks\n",
    "Explain the data quality checks you'll perform to ensure the pipeline ran as expected. These could include:\n",
    " * Integrity constraints on the relational database (e.g., unique key, data type, etc.)\n",
    " * Unit tests for the scripts to ensure they are doing the right thing\n",
    " * Source/Count checks to ensure completeness\n",
    " \n",
    "Run Quality Checks"
   ]
  },
  {
   "cell_type": "markdown",
   "metadata": {
    "editable": true,
    "execution": {
     "iopub.execute_input": "2022-11-20T18:30:05.890178Z",
     "iopub.status.busy": "2022-11-20T18:30:05.889708Z",
     "iopub.status.idle": "2022-11-20T18:30:06.159433Z",
     "shell.execute_reply": "2022-11-20T18:30:06.158235Z",
     "shell.execute_reply.started": "2022-11-20T18:30:05.890135Z"
    },
    "tags": []
   },
   "source": [
    "#### Ensure that the created tables are not empty"
   ]
  },
  {
   "cell_type": "code",
   "execution_count": 73,
   "metadata": {
    "editable": true,
    "execution": {
     "iopub.execute_input": "2022-11-21T02:58:13.718366Z",
     "iopub.status.busy": "2022-11-21T02:58:13.718079Z",
     "iopub.status.idle": "2022-11-21T02:58:35.776713Z",
     "shell.execute_reply": "2022-11-21T02:58:35.774576Z",
     "shell.execute_reply.started": "2022-11-21T02:58:13.718338Z"
    }
   },
   "outputs": [
    {
     "data": {
      "application/vnd.jupyter.widget-view+json": {
       "model_id": "54856541961843639ed373310707094f",
       "version_major": 2,
       "version_minor": 0
      },
      "text/plain": [
       "VBox()"
      ]
     },
     "metadata": {},
     "output_type": "display_data"
    },
    {
     "data": {
      "application/vnd.jupyter.widget-view+json": {
       "model_id": "",
       "version_major": 2,
       "version_minor": 0
      },
      "text/plain": [
       "FloatProgress(value=0.0, bar_style='info', description='Progress:', layout=Layout(height='25px', width='50%'),…"
      ]
     },
     "metadata": {},
     "output_type": "display_data"
    },
    {
     "name": "stdout",
     "output_type": "stream",
     "text": [
      "596"
     ]
    }
   ],
   "source": [
    "city_table.count()"
   ]
  },
  {
   "cell_type": "code",
   "execution_count": 74,
   "metadata": {
    "editable": true,
    "execution": {
     "iopub.execute_input": "2022-11-21T02:58:35.778538Z",
     "iopub.status.busy": "2022-11-21T02:58:35.778161Z",
     "iopub.status.idle": "2022-11-21T02:58:49.710725Z",
     "shell.execute_reply": "2022-11-21T02:58:49.709541Z",
     "shell.execute_reply.started": "2022-11-21T02:58:35.778494Z"
    },
    "tags": []
   },
   "outputs": [
    {
     "data": {
      "application/vnd.jupyter.widget-view+json": {
       "model_id": "7e2eb0390647439abf059345d7c9004d",
       "version_major": 2,
       "version_minor": 0
      },
      "text/plain": [
       "VBox()"
      ]
     },
     "metadata": {},
     "output_type": "display_data"
    },
    {
     "data": {
      "application/vnd.jupyter.widget-view+json": {
       "model_id": "",
       "version_major": 2,
       "version_minor": 0
      },
      "text/plain": [
       "FloatProgress(value=0.0, bar_style='info', description='Progress:', layout=Layout(height='25px', width='50%'),…"
      ]
     },
     "metadata": {},
     "output_type": "display_data"
    },
    {
     "name": "stdout",
     "output_type": "stream",
     "text": [
      "2891"
     ]
    }
   ],
   "source": [
    "city_races_table.count()"
   ]
  },
  {
   "cell_type": "code",
   "execution_count": 75,
   "metadata": {
    "editable": true,
    "execution": {
     "iopub.execute_input": "2022-11-21T02:58:49.712997Z",
     "iopub.status.busy": "2022-11-21T02:58:49.712416Z",
     "iopub.status.idle": "2022-11-21T02:59:03.738518Z",
     "shell.execute_reply": "2022-11-21T02:59:03.736283Z",
     "shell.execute_reply.started": "2022-11-21T02:58:49.712952Z"
    }
   },
   "outputs": [
    {
     "data": {
      "application/vnd.jupyter.widget-view+json": {
       "model_id": "7f871e1ebe93497dac68be0ed983ac3f",
       "version_major": 2,
       "version_minor": 0
      },
      "text/plain": [
       "VBox()"
      ]
     },
     "metadata": {},
     "output_type": "display_data"
    },
    {
     "data": {
      "application/vnd.jupyter.widget-view+json": {
       "model_id": "",
       "version_major": 2,
       "version_minor": 0
      },
      "text/plain": [
       "FloatProgress(value=0.0, bar_style='info', description='Progress:', layout=Layout(height='25px', width='50%'),…"
      ]
     },
     "metadata": {},
     "output_type": "display_data"
    },
    {
     "name": "stdout",
     "output_type": "stream",
     "text": [
      "478"
     ]
    }
   ],
   "source": [
    "airport_table.count()"
   ]
  },
  {
   "cell_type": "code",
   "execution_count": 76,
   "metadata": {
    "editable": true,
    "execution": {
     "iopub.execute_input": "2022-11-21T02:59:03.743573Z",
     "iopub.status.busy": "2022-11-21T02:59:03.740094Z",
     "iopub.status.idle": "2022-11-21T03:03:38.512673Z",
     "shell.execute_reply": "2022-11-21T03:03:38.511677Z",
     "shell.execute_reply.started": "2022-11-21T02:59:03.743527Z"
    }
   },
   "outputs": [
    {
     "data": {
      "application/vnd.jupyter.widget-view+json": {
       "model_id": "a992c3dab91343ad93000726343798a9",
       "version_major": 2,
       "version_minor": 0
      },
      "text/plain": [
       "VBox()"
      ]
     },
     "metadata": {},
     "output_type": "display_data"
    },
    {
     "data": {
      "application/vnd.jupyter.widget-view+json": {
       "model_id": "",
       "version_major": 2,
       "version_minor": 0
      },
      "text/plain": [
       "FloatProgress(value=0.0, bar_style='info', description='Progress:', layout=Layout(height='25px', width='50%'),…"
      ]
     },
     "metadata": {},
     "output_type": "display_data"
    },
    {
     "name": "stdout",
     "output_type": "stream",
     "text": [
      "31716637"
     ]
    }
   ],
   "source": [
    "immigration_table.count()"
   ]
  },
  {
   "cell_type": "code",
   "execution_count": 77,
   "metadata": {
    "editable": true,
    "execution": {
     "iopub.execute_input": "2022-11-21T03:03:38.514683Z",
     "iopub.status.busy": "2022-11-21T03:03:38.514120Z",
     "iopub.status.idle": "2022-11-21T03:04:06.858691Z",
     "shell.execute_reply": "2022-11-21T03:04:06.857664Z",
     "shell.execute_reply.started": "2022-11-21T03:03:38.514641Z"
    }
   },
   "outputs": [
    {
     "data": {
      "application/vnd.jupyter.widget-view+json": {
       "model_id": "0cd4965d3c354fae8716785d36f34780",
       "version_major": 2,
       "version_minor": 0
      },
      "text/plain": [
       "VBox()"
      ]
     },
     "metadata": {},
     "output_type": "display_data"
    },
    {
     "data": {
      "application/vnd.jupyter.widget-view+json": {
       "model_id": "",
       "version_major": 2,
       "version_minor": 0
      },
      "text/plain": [
       "FloatProgress(value=0.0, bar_style='info', description='Progress:', layout=Layout(height='25px', width='50%'),…"
      ]
     },
     "metadata": {},
     "output_type": "display_data"
    },
    {
     "name": "stdout",
     "output_type": "stream",
     "text": [
      "675386"
     ]
    }
   ],
   "source": [
    "temperature_table.count()"
   ]
  },
  {
   "cell_type": "markdown",
   "metadata": {},
   "source": [
    "#### Ensure that tables have unique keys"
   ]
  },
  {
   "cell_type": "code",
   "execution_count": 78,
   "metadata": {
    "execution": {
     "iopub.execute_input": "2022-11-21T03:04:06.863171Z",
     "iopub.status.busy": "2022-11-21T03:04:06.861264Z",
     "iopub.status.idle": "2022-11-21T03:04:07.118099Z",
     "shell.execute_reply": "2022-11-21T03:04:07.117382Z",
     "shell.execute_reply.started": "2022-11-21T03:04:06.863116Z"
    },
    "tags": []
   },
   "outputs": [
    {
     "data": {
      "application/vnd.jupyter.widget-view+json": {
       "model_id": "430984626a3243d9a304fd66883df730",
       "version_major": 2,
       "version_minor": 0
      },
      "text/plain": [
       "VBox()"
      ]
     },
     "metadata": {},
     "output_type": "display_data"
    },
    {
     "data": {
      "application/vnd.jupyter.widget-view+json": {
       "model_id": "",
       "version_major": 2,
       "version_minor": 0
      },
      "text/plain": [
       "FloatProgress(value=0.0, bar_style='info', description='Progress:', layout=Layout(height='25px', width='50%'),…"
      ]
     },
     "metadata": {},
     "output_type": "display_data"
    }
   ],
   "source": [
    "def DataQuality(actual_result,expected_result):\n",
    "    print(f\"Expected Result is {expected_result}.\")\n",
    "    if actual_result != expected_result :\n",
    "        print(f\"Data quality test failed with result {actual_result}.\") \n",
    "        raise ValueError(\"Data quality check failed.\")\n",
    "    else:\n",
    "        print(f\"Data quality test passed with result {actual_result}.\") \n",
    "    "
   ]
  },
  {
   "cell_type": "code",
   "execution_count": 79,
   "metadata": {
    "execution": {
     "iopub.execute_input": "2022-11-21T03:04:07.181211Z",
     "iopub.status.busy": "2022-11-21T03:04:07.119596Z",
     "iopub.status.idle": "2022-11-21T03:04:19.246450Z",
     "shell.execute_reply": "2022-11-21T03:04:19.245736Z",
     "shell.execute_reply.started": "2022-11-21T03:04:07.181147Z"
    },
    "tags": []
   },
   "outputs": [
    {
     "data": {
      "application/vnd.jupyter.widget-view+json": {
       "model_id": "96fc87d13f61473d9906bbb8e0edb844",
       "version_major": 2,
       "version_minor": 0
      },
      "text/plain": [
       "VBox()"
      ]
     },
     "metadata": {},
     "output_type": "display_data"
    },
    {
     "data": {
      "application/vnd.jupyter.widget-view+json": {
       "model_id": "",
       "version_major": 2,
       "version_minor": 0
      },
      "text/plain": [
       "FloatProgress(value=0.0, bar_style='info', description='Progress:', layout=Layout(height='25px', width='50%'),…"
      ]
     },
     "metadata": {},
     "output_type": "display_data"
    },
    {
     "name": "stdout",
     "output_type": "stream",
     "text": [
      "Expected Result is 596.\n",
      "Data quality test passed with result 596."
     ]
    }
   ],
   "source": [
    "unique_city = city_table.select(countDistinct(\"city_id\"))\n",
    "actual_result = int(unique_city.collect()[0][0])\n",
    "expected_result = int(city_table.count())\n",
    "DataQuality(actual_result,expected_result)"
   ]
  },
  {
   "cell_type": "code",
   "execution_count": 80,
   "metadata": {
    "execution": {
     "iopub.execute_input": "2022-11-21T03:04:19.248365Z",
     "iopub.status.busy": "2022-11-21T03:04:19.247735Z",
     "iopub.status.idle": "2022-11-21T03:04:37.617100Z",
     "shell.execute_reply": "2022-11-21T03:04:37.615988Z",
     "shell.execute_reply.started": "2022-11-21T03:04:19.248319Z"
    },
    "tags": []
   },
   "outputs": [
    {
     "data": {
      "application/vnd.jupyter.widget-view+json": {
       "model_id": "367a075f089443cbaea9ecb7ad9c600d",
       "version_major": 2,
       "version_minor": 0
      },
      "text/plain": [
       "VBox()"
      ]
     },
     "metadata": {},
     "output_type": "display_data"
    },
    {
     "data": {
      "application/vnd.jupyter.widget-view+json": {
       "model_id": "",
       "version_major": 2,
       "version_minor": 0
      },
      "text/plain": [
       "FloatProgress(value=0.0, bar_style='info', description='Progress:', layout=Layout(height='25px', width='50%'),…"
      ]
     },
     "metadata": {},
     "output_type": "display_data"
    },
    {
     "name": "stdout",
     "output_type": "stream",
     "text": [
      "Expected Result is 478.\n",
      "Data quality test passed with result 478."
     ]
    }
   ],
   "source": [
    "unique_airport = airport_table.select(countDistinct(\"airport_id\"))\n",
    "actual_result = int(unique_airport.collect()[0][0])\n",
    "expected_result = int(airport_table.count())\n",
    "DataQuality(actual_result,expected_result)"
   ]
  },
  {
   "cell_type": "code",
   "execution_count": 81,
   "metadata": {
    "execution": {
     "iopub.execute_input": "2022-11-21T03:04:37.619235Z",
     "iopub.status.busy": "2022-11-21T03:04:37.618639Z",
     "iopub.status.idle": "2022-11-21T03:04:58.135451Z",
     "shell.execute_reply": "2022-11-21T03:04:58.134276Z",
     "shell.execute_reply.started": "2022-11-21T03:04:37.619193Z"
    },
    "tags": []
   },
   "outputs": [
    {
     "data": {
      "application/vnd.jupyter.widget-view+json": {
       "model_id": "9d26a0feb2f44fcd97f6f80c24a4c539",
       "version_major": 2,
       "version_minor": 0
      },
      "text/plain": [
       "VBox()"
      ]
     },
     "metadata": {},
     "output_type": "display_data"
    },
    {
     "data": {
      "application/vnd.jupyter.widget-view+json": {
       "model_id": "",
       "version_major": 2,
       "version_minor": 0
      },
      "text/plain": [
       "FloatProgress(value=0.0, bar_style='info', description='Progress:', layout=Layout(height='25px', width='50%'),…"
      ]
     },
     "metadata": {},
     "output_type": "display_data"
    },
    {
     "name": "stdout",
     "output_type": "stream",
     "text": [
      "Expected Result is 2891.\n",
      "Data quality test passed with result 2891."
     ]
    }
   ],
   "source": [
    "unique_city_races = city_races_table.select(countDistinct(\"city_races_id\"))\n",
    "actual_result = int(unique_city_races.collect()[0][0])\n",
    "expected_result = int(city_races_table.count())\n",
    "DataQuality(actual_result,expected_result)"
   ]
  },
  {
   "cell_type": "code",
   "execution_count": 82,
   "metadata": {
    "execution": {
     "iopub.execute_input": "2022-11-21T03:04:58.137661Z",
     "iopub.status.busy": "2022-11-21T03:04:58.136981Z",
     "iopub.status.idle": "2022-11-21T03:05:49.127129Z",
     "shell.execute_reply": "2022-11-21T03:05:49.126162Z",
     "shell.execute_reply.started": "2022-11-21T03:04:58.137619Z"
    },
    "tags": []
   },
   "outputs": [
    {
     "data": {
      "application/vnd.jupyter.widget-view+json": {
       "model_id": "c82a2b42296944ce9ddcbf143be7e715",
       "version_major": 2,
       "version_minor": 0
      },
      "text/plain": [
       "VBox()"
      ]
     },
     "metadata": {},
     "output_type": "display_data"
    },
    {
     "data": {
      "application/vnd.jupyter.widget-view+json": {
       "model_id": "",
       "version_major": 2,
       "version_minor": 0
      },
      "text/plain": [
       "FloatProgress(value=0.0, bar_style='info', description='Progress:', layout=Layout(height='25px', width='50%'),…"
      ]
     },
     "metadata": {},
     "output_type": "display_data"
    },
    {
     "name": "stdout",
     "output_type": "stream",
     "text": [
      "Expected Result is 675386.\n",
      "Data quality test passed with result 675386."
     ]
    }
   ],
   "source": [
    "unique_temperature = temperature_table.select(countDistinct(\"temperature_id\"))\n",
    "actual_result = int(unique_temperature.collect()[0][0])\n",
    "expected_result = int(temperature_table.count())\n",
    "DataQuality(actual_result,expected_result)"
   ]
  },
  {
   "cell_type": "code",
   "execution_count": 83,
   "metadata": {
    "execution": {
     "iopub.execute_input": "2022-11-21T03:05:49.129775Z",
     "iopub.status.busy": "2022-11-21T03:05:49.128729Z",
     "iopub.status.idle": "2022-11-21T03:14:29.909211Z",
     "shell.execute_reply": "2022-11-21T03:14:29.908242Z",
     "shell.execute_reply.started": "2022-11-21T03:05:49.129615Z"
    },
    "tags": []
   },
   "outputs": [
    {
     "data": {
      "application/vnd.jupyter.widget-view+json": {
       "model_id": "ab443474af1141c0a95260f97f85c27d",
       "version_major": 2,
       "version_minor": 0
      },
      "text/plain": [
       "VBox()"
      ]
     },
     "metadata": {},
     "output_type": "display_data"
    },
    {
     "data": {
      "application/vnd.jupyter.widget-view+json": {
       "model_id": "",
       "version_major": 2,
       "version_minor": 0
      },
      "text/plain": [
       "FloatProgress(value=0.0, bar_style='info', description='Progress:', layout=Layout(height='25px', width='50%'),…"
      ]
     },
     "metadata": {},
     "output_type": "display_data"
    },
    {
     "name": "stdout",
     "output_type": "stream",
     "text": [
      "Expected Result is 31716637.\n",
      "Data quality test passed with result 31716637."
     ]
    }
   ],
   "source": [
    "unique_immigration = immigration_table.select(countDistinct(\"immigration_id\"))\n",
    "actual_result = int(unique_immigration.collect()[0][0])\n",
    "expected_result = int(immigration_table.count())\n",
    "DataQuality(actual_result,expected_result)"
   ]
  },
  {
   "cell_type": "markdown",
   "metadata": {},
   "source": [
    "#### check data types"
   ]
  },
  {
   "cell_type": "code",
   "execution_count": 85,
   "metadata": {
    "execution": {
     "iopub.execute_input": "2022-11-21T03:18:48.662838Z",
     "iopub.status.busy": "2022-11-21T03:18:48.661994Z",
     "iopub.status.idle": "2022-11-21T03:18:48.907930Z",
     "shell.execute_reply": "2022-11-21T03:18:48.906628Z",
     "shell.execute_reply.started": "2022-11-21T03:18:48.662785Z"
    }
   },
   "outputs": [
    {
     "data": {
      "application/vnd.jupyter.widget-view+json": {
       "model_id": "ab66ccf659564e5aa8c2caef3bdf4ac3",
       "version_major": 2,
       "version_minor": 0
      },
      "text/plain": [
       "VBox()"
      ]
     },
     "metadata": {},
     "output_type": "display_data"
    },
    {
     "data": {
      "application/vnd.jupyter.widget-view+json": {
       "model_id": "",
       "version_major": 2,
       "version_minor": 0
      },
      "text/plain": [
       "FloatProgress(value=0.0, bar_style='info', description='Progress:', layout=Layout(height='25px', width='50%'),…"
      ]
     },
     "metadata": {},
     "output_type": "display_data"
    },
    {
     "name": "stdout",
     "output_type": "stream",
     "text": [
      "root\n",
      " |-- city: string (nullable = true)\n",
      " |-- state: string (nullable = true)\n",
      " |-- state_code: string (nullable = true)\n",
      " |-- median_age: double (nullable = true)\n",
      " |-- male_population: integer (nullable = true)\n",
      " |-- female_population: integer (nullable = true)\n",
      " |-- total_population: integer (nullable = true)\n",
      " |-- number_of_veterans: integer (nullable = true)\n",
      " |-- foreign_born: integer (nullable = true)\n",
      " |-- average_household_size: double (nullable = true)\n",
      " |-- city_id: long (nullable = false)"
     ]
    }
   ],
   "source": [
    "city_table.printSchema()"
   ]
  },
  {
   "cell_type": "code",
   "execution_count": 86,
   "metadata": {
    "execution": {
     "iopub.execute_input": "2022-11-21T03:18:48.910300Z",
     "iopub.status.busy": "2022-11-21T03:18:48.909608Z",
     "iopub.status.idle": "2022-11-21T03:18:49.208471Z",
     "shell.execute_reply": "2022-11-21T03:18:49.207369Z",
     "shell.execute_reply.started": "2022-11-21T03:18:48.910256Z"
    }
   },
   "outputs": [
    {
     "data": {
      "application/vnd.jupyter.widget-view+json": {
       "model_id": "428c85408a3f4d519180966f62ca4156",
       "version_major": 2,
       "version_minor": 0
      },
      "text/plain": [
       "VBox()"
      ]
     },
     "metadata": {},
     "output_type": "display_data"
    },
    {
     "data": {
      "application/vnd.jupyter.widget-view+json": {
       "model_id": "",
       "version_major": 2,
       "version_minor": 0
      },
      "text/plain": [
       "FloatProgress(value=0.0, bar_style='info', description='Progress:', layout=Layout(height='25px', width='50%'),…"
      ]
     },
     "metadata": {},
     "output_type": "display_data"
    },
    {
     "name": "stdout",
     "output_type": "stream",
     "text": [
      "root\n",
      " |-- city_races_id: long (nullable = false)\n",
      " |-- city_id: long (nullable = false)\n",
      " |-- race: string (nullable = true)\n",
      " |-- race_count: integer (nullable = true)"
     ]
    }
   ],
   "source": [
    "city_races_table.printSchema()"
   ]
  },
  {
   "cell_type": "code",
   "execution_count": 87,
   "metadata": {
    "execution": {
     "iopub.execute_input": "2022-11-21T03:18:49.211012Z",
     "iopub.status.busy": "2022-11-21T03:18:49.210210Z",
     "iopub.status.idle": "2022-11-21T03:18:49.505487Z",
     "shell.execute_reply": "2022-11-21T03:18:49.504549Z",
     "shell.execute_reply.started": "2022-11-21T03:18:49.210971Z"
    }
   },
   "outputs": [
    {
     "data": {
      "application/vnd.jupyter.widget-view+json": {
       "model_id": "b76edaf2cdcd49939c0315130574d819",
       "version_major": 2,
       "version_minor": 0
      },
      "text/plain": [
       "VBox()"
      ]
     },
     "metadata": {},
     "output_type": "display_data"
    },
    {
     "data": {
      "application/vnd.jupyter.widget-view+json": {
       "model_id": "",
       "version_major": 2,
       "version_minor": 0
      },
      "text/plain": [
       "FloatProgress(value=0.0, bar_style='info', description='Progress:', layout=Layout(height='25px', width='50%'),…"
      ]
     },
     "metadata": {},
     "output_type": "display_data"
    },
    {
     "name": "stdout",
     "output_type": "stream",
     "text": [
      "root\n",
      " |-- airport_id: string (nullable = true)\n",
      " |-- name: string (nullable = true)\n",
      " |-- type: string (nullable = true)\n",
      " |-- city_id: long (nullable = false)"
     ]
    }
   ],
   "source": [
    "airport_table.printSchema()"
   ]
  },
  {
   "cell_type": "code",
   "execution_count": 88,
   "metadata": {
    "execution": {
     "iopub.execute_input": "2022-11-21T03:18:49.507630Z",
     "iopub.status.busy": "2022-11-21T03:18:49.506957Z",
     "iopub.status.idle": "2022-11-21T03:18:49.879072Z",
     "shell.execute_reply": "2022-11-21T03:18:49.878223Z",
     "shell.execute_reply.started": "2022-11-21T03:18:49.507588Z"
    }
   },
   "outputs": [
    {
     "data": {
      "application/vnd.jupyter.widget-view+json": {
       "model_id": "cb75a91dd15a4685943ec435ee295e02",
       "version_major": 2,
       "version_minor": 0
      },
      "text/plain": [
       "VBox()"
      ]
     },
     "metadata": {},
     "output_type": "display_data"
    },
    {
     "data": {
      "application/vnd.jupyter.widget-view+json": {
       "model_id": "",
       "version_major": 2,
       "version_minor": 0
      },
      "text/plain": [
       "FloatProgress(value=0.0, bar_style='info', description='Progress:', layout=Layout(height='25px', width='50%'),…"
      ]
     },
     "metadata": {},
     "output_type": "display_data"
    },
    {
     "name": "stdout",
     "output_type": "stream",
     "text": [
      "root\n",
      " |-- temperature_date: timestamp (nullable = true)\n",
      " |-- city_id: long (nullable = false)\n",
      " |-- average_temperature: double (nullable = true)\n",
      " |-- average_temperature_uncertainty: double (nullable = true)\n",
      " |-- temperature_id: long (nullable = false)"
     ]
    }
   ],
   "source": [
    "temperature_table.printSchema()"
   ]
  },
  {
   "cell_type": "code",
   "execution_count": 89,
   "metadata": {
    "execution": {
     "iopub.execute_input": "2022-11-21T03:18:49.881167Z",
     "iopub.status.busy": "2022-11-21T03:18:49.880495Z",
     "iopub.status.idle": "2022-11-21T03:18:50.179602Z",
     "shell.execute_reply": "2022-11-21T03:18:50.178481Z",
     "shell.execute_reply.started": "2022-11-21T03:18:49.881126Z"
    }
   },
   "outputs": [
    {
     "data": {
      "application/vnd.jupyter.widget-view+json": {
       "model_id": "0c1e84536f574afc8304856f3e11cdf0",
       "version_major": 2,
       "version_minor": 0
      },
      "text/plain": [
       "VBox()"
      ]
     },
     "metadata": {},
     "output_type": "display_data"
    },
    {
     "data": {
      "application/vnd.jupyter.widget-view+json": {
       "model_id": "",
       "version_major": 2,
       "version_minor": 0
      },
      "text/plain": [
       "FloatProgress(value=0.0, bar_style='info', description='Progress:', layout=Layout(height='25px', width='50%'),…"
      ]
     },
     "metadata": {},
     "output_type": "display_data"
    },
    {
     "name": "stdout",
     "output_type": "stream",
     "text": [
      "root\n",
      " |-- immigrant_id: integer (nullable = true)\n",
      " |-- immigration_year: integer (nullable = true)\n",
      " |-- immigration_month: integer (nullable = true)\n",
      " |-- origin_city: string (nullable = true)\n",
      " |-- arrival_city_id: long (nullable = false)\n",
      " |-- arrival_date: timestamp (nullable = true)\n",
      " |-- travel_mode: string (nullable = true)\n",
      " |-- address: string (nullable = true)\n",
      " |-- departial_date: timestamp (nullable = true)\n",
      " |-- age: integer (nullable = true)\n",
      " |-- visa_class: string (nullable = true)\n",
      " |-- occupation: string (nullable = true)\n",
      " |-- birth_year: integer (nullable = true)\n",
      " |-- addmission_date: string (nullable = true)\n",
      " |-- gender: string (nullable = true)\n",
      " |-- airline: string (nullable = true)\n",
      " |-- flight_number: string (nullable = true)\n",
      " |-- visa_type: string (nullable = true)\n",
      " |-- immigration_id: long (nullable = false)"
     ]
    }
   ],
   "source": [
    "immigration_table.printSchema()"
   ]
  },
  {
   "cell_type": "markdown",
   "metadata": {
    "editable": true
   },
   "source": [
    "#### 4.3 Data dictionary \n",
    "Create a data dictionary for your data model. For each field, provide a brief description of what the data is and where it came from. You can include the data dictionary in the notebook or in a separate file."
   ]
  },
  {
   "cell_type": "markdown",
   "metadata": {
    "editable": true
   },
   "source": [
    "#### Step 5: Complete Project Write Up\n",
    "* Clearly state the rationale for the choice of tools and technologies for the project.\n",
    "* Propose how often the data should be updated and why.\n",
    "* Write a description of how you would approach the problem differently under the following scenarios:\n",
    " * The data was increased by 100x.\n",
    " * The data populates a dashboard that must be updated on a daily basis by 7am every day.\n",
    " * The database needed to be accessed by 100+ people."
   ]
  },
  {
   "cell_type": "code",
   "execution_count": null,
   "metadata": {
    "editable": true
   },
   "outputs": [],
   "source": []
  },
  {
   "cell_type": "code",
   "execution_count": null,
   "metadata": {
    "editable": true
   },
   "outputs": [],
   "source": []
  }
 ],
 "metadata": {
  "kernelspec": {
   "display_name": "PySpark",
   "language": "",
   "name": "pysparkkernel"
  },
  "language_info": {
   "codemirror_mode": {
    "name": "python",
    "version": 2
   },
   "mimetype": "text/x-python",
   "name": "pyspark",
   "pygments_lexer": "python2"
  }
 },
 "nbformat": 4,
 "nbformat_minor": 4
}
